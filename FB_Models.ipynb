{
 "cells": [
  {
   "cell_type": "markdown",
   "metadata": {
    "colab_type": "text",
    "id": "naWvqMEMHglO"
   },
   "source": [
    "<p style=\"font-size:32px;text-align:center\"> <b>Social network Graph Link Prediction - Facebook Challenge</b> </p>"
   ]
  },
  {
   "cell_type": "code",
   "execution_count": 1,
   "metadata": {
    "ExecuteTime": {
     "end_time": "2019-08-21T08:30:21.556339Z",
     "start_time": "2019-08-21T08:28:38.264054Z"
    },
    "colab": {},
    "colab_type": "code",
    "id": "9wb9N5RzHglP"
   },
   "outputs": [],
   "source": [
    "#Importing Libraries\n",
    "# please do go through this python notebook: \n",
    "import warnings\n",
    "warnings.filterwarnings(\"ignore\")\n",
    "\n",
    "import csv\n",
    "import pandas as pd #pandas to create small dataframes \n",
    "import datetime #Convert to unix time\n",
    "import time #Convert to unix time\n",
    "# if numpy is not installed already : pip3 install numpy\n",
    "import numpy as np # Do aritmetic operations on arrays\n",
    "# matplotlib: used to plot graphs\n",
    "import matplotlib\n",
    "import matplotlib.pylab as plt\n",
    "import seaborn as sns #Plots\n",
    "from matplotlib import rcParams #Size of plots  \n",
    "from sklearn.cluster import MiniBatchKMeans, KMeans #Clustering\n",
    "import math\n",
    "import pickle\n",
    "import os\n",
    "# to install xgboost: pip3 install xgboost\n",
    "import xgboost as xgb\n",
    "\n",
    "import warnings\n",
    "import networkx as nx\n",
    "import pdb\n",
    "import pickle\n",
    "from pandas import HDFStore,DataFrame\n",
    "from pandas import read_hdf\n",
    "from scipy.sparse.linalg import svds, eigs\n",
    "import gc\n",
    "from tqdm import tqdm\n",
    "from sklearn.ensemble import RandomForestClassifier\n",
    "from sklearn.metrics import f1_score"
   ]
  },
  {
   "cell_type": "code",
   "execution_count": 2,
   "metadata": {
    "ExecuteTime": {
     "end_time": "2019-08-21T08:30:51.854953Z",
     "start_time": "2019-08-21T08:30:45.575325Z"
    },
    "colab": {},
    "colab_type": "code",
    "id": "XC4OJFKkHglU"
   },
   "outputs": [],
   "source": [
    "#reading\n",
    "from pandas import read_hdf\n",
    "df_final_train = read_hdf('data/fea_sample/storage_sample_stage4.h5', 'train_df',mode='r')\n",
    "df_final_test = read_hdf('data/fea_sample/storage_sample_stage4.h5', 'test_df',mode='r')"
   ]
  },
  {
   "cell_type": "code",
   "execution_count": 3,
   "metadata": {
    "ExecuteTime": {
     "end_time": "2019-08-21T08:31:00.292506Z",
     "start_time": "2019-08-21T08:31:00.283512Z"
    },
    "colab": {},
    "colab_type": "code",
    "id": "5Gm-BHRkHglW",
    "outputId": "d2c2294c-113e-4fdb-d3e5-dc167dcf5fbc",
    "scrolled": true
   },
   "outputs": [
    {
     "data": {
      "text/plain": [
       "Index(['source_node', 'destination_node', 'indicator_link',\n",
       "       'jaccard_followers', 'jaccard_followees', 'cosine_followers',\n",
       "       'cosine_followees', 'num_followers_s', 'num_followers_d',\n",
       "       'num_followees_s', 'num_followees_d', 'inter_followers',\n",
       "       'inter_followees', 'adar_index', 'follows_back', 'same_comp',\n",
       "       'shortest_path', 'weight_in', 'weight_out', 'weight_f1', 'weight_f2',\n",
       "       'weight_f3', 'weight_f4', 'page_rank_s', 'page_rank_d', 'katz_s',\n",
       "       'katz_d', 'hubs_s', 'hubs_d', 'authorities_s', 'authorities_d',\n",
       "       'svd_u_s_1', 'svd_u_s_2', 'svd_u_s_3', 'svd_u_s_4', 'svd_u_s_5',\n",
       "       'svd_u_s_6', 'svd_u_d_1', 'svd_u_d_2', 'svd_u_d_3', 'svd_u_d_4',\n",
       "       'svd_u_d_5', 'svd_u_d_6', 'svd_v_s_1', 'svd_v_s_2', 'svd_v_s_3',\n",
       "       'svd_v_s_4', 'svd_v_s_5', 'svd_v_s_6', 'svd_v_d_1', 'svd_v_d_2',\n",
       "       'svd_v_d_3', 'svd_v_d_4', 'svd_v_d_5', 'svd_v_d_6'],\n",
       "      dtype='object')"
      ]
     },
     "execution_count": 3,
     "metadata": {},
     "output_type": "execute_result"
    }
   ],
   "source": [
    "df_final_train.columns"
   ]
  },
  {
   "cell_type": "code",
   "execution_count": 4,
   "metadata": {
    "ExecuteTime": {
     "end_time": "2019-08-21T08:31:01.757267Z",
     "start_time": "2019-08-21T08:31:01.753267Z"
    },
    "colab": {},
    "colab_type": "code",
    "id": "XRW7VZ4AHglc"
   },
   "outputs": [],
   "source": [
    "y_train = df_final_train.indicator_link\n",
    "y_test = df_final_test.indicator_link"
   ]
  },
  {
   "cell_type": "code",
   "execution_count": 5,
   "metadata": {
    "ExecuteTime": {
     "end_time": "2019-08-21T08:31:05.845120Z",
     "start_time": "2019-08-21T08:31:05.592321Z"
    },
    "colab": {},
    "colab_type": "code",
    "id": "4lj9M_qtHglf"
   },
   "outputs": [],
   "source": [
    "df_final_train.drop(['source_node', 'destination_node','indicator_link'],axis=1,inplace=True)\n",
    "df_final_test.drop(['source_node', 'destination_node','indicator_link'],axis=1,inplace=True)"
   ]
  },
  {
   "cell_type": "code",
   "execution_count": 6,
   "metadata": {
    "ExecuteTime": {
     "end_time": "2019-08-21T08:32:12.185680Z",
     "start_time": "2019-08-21T08:31:10.003858Z"
    }
   },
   "outputs": [
    {
     "name": "stdout",
     "output_type": "stream",
     "text": [
      "Estimators =  10 Train Score 0.9230994948753956 test Score 0.909736458355348\n",
      "Estimators =  50 Train Score 0.9258998624079657 test Score 0.9013547931425637\n",
      "Estimators =  100 Train Score 0.9257343141678821 test Score 0.9180286436394272\n",
      "Estimators =  250 Train Score 0.9227429554201579 test Score 0.9155753926481114\n",
      "Estimators =  450 Train Score 0.9237440285579295 test Score 0.9162013527465813\n"
     ]
    },
    {
     "data": {
      "text/plain": [
       "Text(0.5,1,'Estimators vs score at depth of 5')"
      ]
     },
     "execution_count": 6,
     "metadata": {},
     "output_type": "execute_result"
    },
    {
     "data": {
      "image/png": "[encoded data removed]",
      "text/plain": [
       "<Figure size 432x288 with 1 Axes>"
      ]
     },
     "metadata": {},
     "output_type": "display_data"
    }
   ],
   "source": [
    "estimators = [10,50,100,250,450]\n",
    "train_scores = []\n",
    "test_scores = []\n",
    "for i in estimators:\n",
    "    clf = RandomForestClassifier(bootstrap=True, class_weight=None, criterion='gini',\n",
    "            max_depth=5, max_features='auto', max_leaf_nodes=None,\n",
    "            min_impurity_decrease=0.0, min_impurity_split=None,\n",
    "            min_samples_leaf=52, min_samples_split=120,\n",
    "            min_weight_fraction_leaf=0.0, n_estimators=i, n_jobs=-1,random_state=25,verbose=0,warm_start=False)\n",
    "    clf.fit(df_final_train,y_train)\n",
    "    train_sc = f1_score(y_train,clf.predict(df_final_train))\n",
    "    test_sc = f1_score(y_test,clf.predict(df_final_test))\n",
    "    test_scores.append(test_sc)\n",
    "    train_scores.append(train_sc)\n",
    "    print('Estimators = ',i,'Train Score',train_sc,'test Score',test_sc)\n",
    "plt.plot(estimators,train_scores,label='Train Score')\n",
    "plt.plot(estimators,test_scores,label='Test Score')\n",
    "plt.xlabel('Estimators')\n",
    "plt.ylabel('Score')\n",
    "plt.title('Estimators vs score at depth of 5')"
   ]
  },
  {
   "cell_type": "code",
   "execution_count": 7,
   "metadata": {
    "ExecuteTime": {
     "end_time": "2019-08-21T08:34:16.925427Z",
     "start_time": "2019-08-21T08:32:28.362889Z"
    }
   },
   "outputs": [
    {
     "name": "stdout",
     "output_type": "stream",
     "text": [
      "depth =  3 Train Score 0.8811637240028835 test Score 0.8636988843525533\n",
      "depth =  9 Train Score 0.9579797650130548 test Score 0.9203353414500569\n",
      "depth =  11 Train Score 0.9612399947113086 test Score 0.9219634328515223\n",
      "depth =  15 Train Score 0.964104961482957 test Score 0.9234589725782352\n",
      "depth =  20 Train Score 0.9645325203252033 test Score 0.9237116874368474\n",
      "depth =  35 Train Score 0.9644363584619919 test Score 0.923517399633692\n",
      "depth =  50 Train Score 0.9644363584619919 test Score 0.923517399633692\n",
      "depth =  70 Train Score 0.9644363584619919 test Score 0.923517399633692\n",
      "depth =  130 Train Score 0.9644363584619919 test Score 0.923517399633692\n"
     ]
    },
    {
     "data": {
      "image/png": "[encoded data removed]",
      "text/plain": [
       "<Figure size 432x288 with 1 Axes>"
      ]
     },
     "metadata": {},
     "output_type": "display_data"
    }
   ],
   "source": [
    "depths = [3,9,11,15,20,35,50,70,130]\n",
    "train_scores = []\n",
    "test_scores = []\n",
    "for i in depths:\n",
    "    clf = RandomForestClassifier(bootstrap=True, class_weight=None, criterion='gini',\n",
    "            max_depth=i, max_features='auto', max_leaf_nodes=None,\n",
    "            min_impurity_decrease=0.0, min_impurity_split=None,\n",
    "            min_samples_leaf=52, min_samples_split=120,\n",
    "            min_weight_fraction_leaf=0.0, n_estimators=115, n_jobs=-1,random_state=25,verbose=0,warm_start=False)\n",
    "    clf.fit(df_final_train,y_train)\n",
    "    train_sc = f1_score(y_train,clf.predict(df_final_train))\n",
    "    test_sc = f1_score(y_test,clf.predict(df_final_test))\n",
    "    test_scores.append(test_sc)\n",
    "    train_scores.append(train_sc)\n",
    "    print('depth = ',i,'Train Score',train_sc,'test Score',test_sc)\n",
    "plt.plot(depths,train_scores,label='Train Score')\n",
    "plt.plot(depths,test_scores,label='Test Score')\n",
    "plt.xlabel('Depth')\n",
    "plt.ylabel('Score')\n",
    "plt.title('Depth vs score at depth of 5 at estimators = 115')\n",
    "plt.show()"
   ]
  },
  {
   "cell_type": "code",
   "execution_count": 8,
   "metadata": {
    "ExecuteTime": {
     "end_time": "2019-08-13T06:42:48.221757Z",
     "start_time": "2019-08-13T06:32:07.112799Z"
    },
    "colab": {},
    "colab_type": "code",
    "id": "MrG1Lfl3Hglq",
    "outputId": "7b6e3c97-8d66-455d-cd79-213f824719cc"
   },
   "outputs": [
    {
     "name": "stdout",
     "output_type": "stream",
     "text": [
      "mean test scores [0.96308152 0.96303068 0.96019942 0.96246273 0.9647149 ]\n",
      "mean train scores [0.96404632 0.9638157  0.96073767 0.96325016 0.96566718]\n"
     ]
    }
   ],
   "source": [
    "from sklearn.metrics import f1_score\n",
    "from sklearn.ensemble import RandomForestClassifier\n",
    "from sklearn.metrics import f1_score\n",
    "from sklearn.model_selection import RandomizedSearchCV\n",
    "from scipy.stats import randint as sp_randint\n",
    "from scipy.stats import uniform\n",
    "\n",
    "param_dist = {\"n_estimators\":sp_randint(105,125),\n",
    "              \"max_depth\": sp_randint(10,15),\n",
    "              \"min_samples_split\": sp_randint(110,190),\n",
    "              \"min_samples_leaf\": sp_randint(25,65)}\n",
    "\n",
    "clf = RandomForestClassifier(random_state=25,n_jobs=-1)\n",
    "\n",
    "rf_random = RandomizedSearchCV(clf, param_distributions=param_dist,\n",
    "                                   n_iter=5,cv=10,scoring='f1',random_state=25)\n",
    "\n",
    "rf_random.fit(df_final_train,y_train)\n",
    "print('mean test scores',rf_random.cv_results_['mean_test_score'])\n",
    "print('mean train scores',rf_random.cv_results_['mean_train_score'])"
   ]
  },
  {
   "cell_type": "code",
   "execution_count": 9,
   "metadata": {
    "ExecuteTime": {
     "end_time": "2019-08-13T06:42:48.473694Z",
     "start_time": "2019-08-13T06:42:48.465697Z"
    }
   },
   "outputs": [
    {
     "name": "stdout",
     "output_type": "stream",
     "text": [
      "RandomForestClassifier(bootstrap=True, class_weight=None, criterion='gini',\n",
      "            max_depth=14, max_features='auto', max_leaf_nodes=None,\n",
      "            min_impurity_decrease=0.0, min_impurity_split=None,\n",
      "            min_samples_leaf=28, min_samples_split=111,\n",
      "            min_weight_fraction_leaf=0.0, n_estimators=121, n_jobs=-1,\n",
      "            oob_score=False, random_state=25, verbose=0, warm_start=False)\n"
     ]
    }
   ],
   "source": [
    "print(rf_random.best_estimator_)"
   ]
  },
  {
   "cell_type": "code",
   "execution_count": 10,
   "metadata": {
    "ExecuteTime": {
     "end_time": "2019-08-13T06:42:48.813630Z",
     "start_time": "2019-08-13T06:42:48.661648Z"
    },
    "colab": {},
    "colab_type": "code",
    "id": "qu4KIEweHglx"
   },
   "outputs": [],
   "source": [
    "clf = RandomForestClassifier(bootstrap=True, class_weight=None, criterion='gini',\n",
    "            max_depth=14, max_features='auto', max_leaf_nodes=None,\n",
    "            min_impurity_decrease=0.0, min_impurity_split=None,\n",
    "            min_samples_leaf=28, min_samples_split=111,\n",
    "            min_weight_fraction_leaf=0.0, n_estimators=121, n_jobs=-1,\n",
    "            oob_score=False, random_state=25, verbose=0, warm_start=False)"
   ]
  },
  {
   "cell_type": "code",
   "execution_count": 11,
   "metadata": {
    "ExecuteTime": {
     "end_time": "2019-08-13T06:43:02.595739Z",
     "start_time": "2019-08-13T06:42:48.997564Z"
    },
    "colab": {},
    "colab_type": "code",
    "id": "Dax83GfLHgl1"
   },
   "outputs": [],
   "source": [
    "clf.fit(df_final_train,y_train)\n",
    "y_train_pred = clf.predict(df_final_train)\n",
    "y_test_pred = clf.predict(df_final_test)"
   ]
  },
  {
   "cell_type": "code",
   "execution_count": 12,
   "metadata": {
    "ExecuteTime": {
     "end_time": "2019-08-13T06:43:02.869101Z",
     "start_time": "2019-08-13T06:43:02.793120Z"
    },
    "colab": {},
    "colab_type": "code",
    "id": "PTtAp1iTHgl4",
    "outputId": "e2e3d725-3c4d-4374-d303-8f294b570977"
   },
   "outputs": [
    {
     "name": "stdout",
     "output_type": "stream",
     "text": [
      "Train f1 score 0.966597288176693\n",
      "Test f1 score 0.9282528193906749\n"
     ]
    }
   ],
   "source": [
    "from sklearn.metrics import f1_score\n",
    "print('Train f1 score',f1_score(y_train,y_train_pred))\n",
    "print('Test f1 score',f1_score(y_test,y_test_pred))"
   ]
  },
  {
   "cell_type": "code",
   "execution_count": 13,
   "metadata": {
    "ExecuteTime": {
     "end_time": "2019-08-13T06:43:03.105041Z",
     "start_time": "2019-08-13T06:43:03.089045Z"
    },
    "colab": {},
    "colab_type": "code",
    "id": "5XfUkZYQHgl7"
   },
   "outputs": [],
   "source": [
    "from sklearn.metrics import confusion_matrix\n",
    "def plot_confusion_matrix(test_y, predict_y):\n",
    "    C = confusion_matrix(test_y, predict_y)\n",
    "    \n",
    "    A =(((C.T)/(C.sum(axis=1))).T)\n",
    "    \n",
    "    B =(C/C.sum(axis=0))\n",
    "    plt.figure(figsize=(20,4))\n",
    "    \n",
    "    labels = [0,1]\n",
    "    # representing A in heatmap format\n",
    "    cmap=sns.light_palette(\"blue\")\n",
    "    plt.subplot(1, 3, 1)\n",
    "    sns.heatmap(C, annot=True, cmap=cmap, fmt=\".3f\", xticklabels=labels, yticklabels=labels)\n",
    "    plt.xlabel('Predicted Class')\n",
    "    plt.ylabel('Original Class')\n",
    "    plt.title(\"Confusion matrix\")\n",
    "    \n",
    "    plt.subplot(1, 3, 2)\n",
    "    sns.heatmap(B, annot=True, cmap=cmap, fmt=\".3f\", xticklabels=labels, yticklabels=labels)\n",
    "    plt.xlabel('Predicted Class')\n",
    "    plt.ylabel('Original Class')\n",
    "    plt.title(\"Precision matrix\")\n",
    "    \n",
    "    plt.subplot(1, 3, 3)\n",
    "    # representing B in heatmap format\n",
    "    sns.heatmap(A, annot=True, cmap=cmap, fmt=\".3f\", xticklabels=labels, yticklabels=labels)\n",
    "    plt.xlabel('Predicted Class')\n",
    "    plt.ylabel('Original Class')\n",
    "    plt.title(\"Recall matrix\")\n",
    "    \n",
    "    plt.show()"
   ]
  },
  {
   "cell_type": "code",
   "execution_count": 14,
   "metadata": {
    "ExecuteTime": {
     "end_time": "2019-08-13T06:43:04.832612Z",
     "start_time": "2019-08-13T06:43:03.296995Z"
    },
    "colab": {},
    "colab_type": "code",
    "id": "s6t11dhTHgl-",
    "outputId": "189de3be-1c99-4653-f56f-12b18b0f4db7"
   },
   "outputs": [
    {
     "name": "stdout",
     "output_type": "stream",
     "text": [
      "Train confusion_matrix\n"
     ]
    },
    {
     "data": {
      "image/png": "[encoded data removed]",
      "text/plain": [
       "<Figure size 1440x288 with 6 Axes>"
      ]
     },
     "metadata": {},
     "output_type": "display_data"
    },
    {
     "name": "stdout",
     "output_type": "stream",
     "text": [
      "Test confusion_matrix\n"
     ]
    },
    {
     "data": {
      "image/png": "[encoded data removed]",
      "text/plain": [
       "<Figure size 1440x288 with 6 Axes>"
      ]
     },
     "metadata": {},
     "output_type": "display_data"
    }
   ],
   "source": [
    "print('Train confusion_matrix')\n",
    "plot_confusion_matrix(y_train,y_train_pred)\n",
    "print('Test confusion_matrix')\n",
    "plot_confusion_matrix(y_test,y_test_pred)"
   ]
  },
  {
   "cell_type": "code",
   "execution_count": 15,
   "metadata": {
    "ExecuteTime": {
     "end_time": "2019-08-13T06:43:05.208515Z",
     "start_time": "2019-08-13T06:43:05.000586Z"
    },
    "colab": {},
    "colab_type": "code",
    "id": "61TF-VLeHgmD",
    "outputId": "795f1b39-61c7-470f-e2d0-1fe6dc7ac5fd"
   },
   "outputs": [
    {
     "data": {
      "image/png": "[encoded data removed]",
      "text/plain": [
       "<Figure size 432x288 with 1 Axes>"
      ]
     },
     "metadata": {},
     "output_type": "display_data"
    }
   ],
   "source": [
    "from sklearn.metrics import roc_curve, auc\n",
    "fpr,tpr,ths = roc_curve(y_test,y_test_pred)\n",
    "auc_sc = auc(fpr, tpr)\n",
    "plt.plot(fpr, tpr, color='navy',label='ROC curve (area = %0.2f)' % auc_sc)\n",
    "plt.xlabel('False Positive Rate')\n",
    "plt.ylabel('True Positive Rate')\n",
    "plt.title('Receiver operating characteristic with test data')\n",
    "plt.legend()\n",
    "plt.show()"
   ]
  },
  {
   "cell_type": "code",
   "execution_count": 16,
   "metadata": {
    "ExecuteTime": {
     "end_time": "2019-08-13T06:43:05.952330Z",
     "start_time": "2019-08-13T06:43:05.376473Z"
    }
   },
   "outputs": [
    {
     "data": {
      "image/png": "[encoded data removed]",
      "text/plain": [
       "<Figure size 720x864 with 1 Axes>"
      ]
     },
     "metadata": {},
     "output_type": "display_data"
    }
   ],
   "source": [
    "features = df_final_train.columns\n",
    "importances = clf.feature_importances_\n",
    "indices = (np.argsort(importances))[-25:]\n",
    "plt.figure(figsize=(10,12))\n",
    "plt.title('Feature Importances')\n",
    "plt.barh(range(len(indices)), importances[indices], color='r', align='center')\n",
    "plt.yticks(range(len(indices)), [features[i] for i in indices])\n",
    "plt.xlabel('Relative Importance')\n",
    "plt.show()"
   ]
  },
  {
   "cell_type": "markdown",
   "metadata": {
    "colab_type": "text",
    "id": "xdHW32hcHgmN"
   },
   "source": [
    "# Assignments:\n",
    "\n",
    "1. Add another feature called  Preferential Attachment  with followers and followees data of vertex. you can check about Preferential Attachment in below link\n",
    "http://be.amazd.com/link-prediction/ <br>\n",
    "2. Add  feature called svd_dot. you can calculate svd_dot as Dot product between sourse node svd and destination node svd features.  you can read about this in below pdf \n",
    "https://storage.googleapis.com/kaggle-forum-message-attachments/2594/supervised_link_prediction.pdf<br>\n",
    "3. Tune hyperparameters for XG boost with all these features and check the error metric."
   ]
  },
  {
   "cell_type": "code",
   "execution_count": 8,
   "metadata": {
    "ExecuteTime": {
     "end_time": "2019-08-21T08:35:31.331230Z",
     "start_time": "2019-08-21T08:34:29.204610Z"
    }
   },
   "outputs": [
    {
     "name": "stdout",
     "output_type": "stream",
     "text": [
      "Name: \n",
      "Type: DiGraph\n",
      "Number of nodes: 1780722\n",
      "Number of edges: 7550015\n",
      "Average in degree:   4.2399\n",
      "Average out degree:   4.2399\n"
     ]
    }
   ],
   "source": [
    "# reading data \n",
    "if os.path.isfile('data/after_eda/train_pos_after_eda.csv'):\n",
    "    train_graph=nx.read_edgelist('data/after_eda/train_pos_after_eda.csv',delimiter=',',create_using=nx.DiGraph(),nodetype=int)\n",
    "    print(nx.info(train_graph))\n",
    "else:\n",
    "    print(\"please run the FB_EDA.ipynb or download the files from drive\")"
   ]
  },
  {
   "cell_type": "code",
   "execution_count": 9,
   "metadata": {
    "ExecuteTime": {
     "end_time": "2019-08-21T08:35:42.073934Z",
     "start_time": "2019-08-21T08:35:41.188552Z"
    }
   },
   "outputs": [],
   "source": [
    "#reading\n",
    "from pandas import read_hdf\n",
    "df_final_train = read_hdf('data/fea_sample/storage_sample_stage4.h5', 'train_df',mode='r')\n",
    "df_final_test = read_hdf('data/fea_sample/storage_sample_stage4.h5', 'test_df',mode='r')"
   ]
  },
  {
   "cell_type": "markdown",
   "metadata": {},
   "source": [
    "## 1. Preferential Attachment\n",
    "\n",
    "https://en.wikipedia.org/wiki/Preferential_attachment\n",
    "\n",
    "https://networkx.github.io/documentation/networkx-1.10/reference/generated/networkx.algorithms.link_prediction.preferential_attachment.html"
   ]
  },
  {
   "cell_type": "markdown",
   "metadata": {},
   "source": [
    "\\begin{equation}\n",
    "Preferential  Attachment = {|X| * |Y|}\n",
    "\\end{equation}"
   ]
  },
  {
   "cell_type": "code",
   "execution_count": 10,
   "metadata": {
    "ExecuteTime": {
     "end_time": "2019-08-21T08:35:45.219053Z",
     "start_time": "2019-08-21T08:35:45.213077Z"
    }
   },
   "outputs": [],
   "source": [
    "#for followees\n",
    "def pre_att_for_followees(a,b):\n",
    "    try:\n",
    "        return len(set(train_graph.successors(a))) * len(set(train_graph.successors(b)))\n",
    "    except:\n",
    "        return 0"
   ]
  },
  {
   "cell_type": "code",
   "execution_count": 11,
   "metadata": {
    "ExecuteTime": {
     "end_time": "2019-08-21T08:35:48.804054Z",
     "start_time": "2019-08-21T08:35:48.799056Z"
    }
   },
   "outputs": [],
   "source": [
    "#for followers\n",
    "def pre_att_for_followers(a,b):\n",
    "    try:\n",
    "        return len(set(train_graph.predecessors(a)))* len(set(train_graph.predecessors(b)))\n",
    "    except:\n",
    "        return 0"
   ]
  },
  {
   "cell_type": "markdown",
   "metadata": {},
   "source": [
    "### Adding new set of features\n",
    "- Preferential Attachment"
   ]
  },
  {
   "cell_type": "code",
   "execution_count": 12,
   "metadata": {
    "ExecuteTime": {
     "end_time": "2019-08-21T08:36:25.373708Z",
     "start_time": "2019-08-21T08:36:06.676894Z"
    }
   },
   "outputs": [],
   "source": [
    "if not os.path.isfile('data/fea_sample/storage_sample_stage5.h5'):\n",
    "    #mapping Preferential Attachment followers to train and test data\n",
    "    df_final_train['preferential_attachment_followers'] = df_final_train.apply(lambda row:\n",
    "                                            pre_att_for_followers(row['source_node'],row['destination_node']),axis=1)\n",
    "    df_final_test['preferential_attachment_followers'] = df_final_test.apply(lambda row:\n",
    "                                            pre_att_for_followers(row['source_node'],row['destination_node']),axis=1)\n",
    "\n",
    "    #mapping Preferential Attachment followees to train and test data\n",
    "    df_final_train['preferential_attachment_followees'] = df_final_train.apply(lambda row:\n",
    "                                            pre_att_for_followees(row['source_node'],row['destination_node']),axis=1)\n",
    "    df_final_test['preferential_attachment_followees'] = df_final_test.apply(lambda row:\n",
    "                                            pre_att_for_followees(row['source_node'],row['destination_node']),axis=1)\n",
    "    \n",
    "    hdf = HDFStore('data/fea_sample/storage_sample_stage5.h5')\n",
    "    hdf.put('train_df',df_final_train, format='table', data_columns=True)\n",
    "    hdf.put('test_df',df_final_test, format='table', data_columns=True)\n",
    "    hdf.close()\n",
    "else:\n",
    "    df_final_train = read_hdf('data/fea_sample/storage_sample_stage5.h5', 'train_df',mode='r')\n",
    "    df_final_test = read_hdf('data/fea_sample/storage_sample_stage5.h5', 'test_df',mode='r')    "
   ]
  },
  {
   "cell_type": "markdown",
   "metadata": {},
   "source": [
    "## 2.  SVD Feature\n",
    "#### Calculate svd_mul as multiply between Sourse node SVD and Destination node SVD features "
   ]
  },
  {
   "cell_type": "markdown",
   "metadata": {
    "ExecuteTime": {
     "end_time": "2019-08-13T16:49:18.387393Z",
     "start_time": "2019-08-13T16:49:18.379399Z"
    }
   },
   "source": [
    "$ M = U \\sum V^* $\n",
    "\n",
    "So, given matrix __M:n×m__ that performs some linear transformation, the SVD decomposes that transformation into three steps: __U:m×m__, __S:m×n__, __V:n×n__, such that __M=U×S×V^T__"
   ]
  },
  {
   "cell_type": "code",
   "execution_count": 13,
   "metadata": {
    "ExecuteTime": {
     "end_time": "2019-08-21T08:43:00.823661Z",
     "start_time": "2019-08-21T08:43:00.817665Z"
    }
   },
   "outputs": [],
   "source": [
    "def svd(x, S):\n",
    "    try:\n",
    "        z = sadj_dict[x]\n",
    "        return S[z]\n",
    "    except:\n",
    "        return [0,0,0,0,0,0]"
   ]
  },
  {
   "cell_type": "code",
   "execution_count": 14,
   "metadata": {
    "ExecuteTime": {
     "end_time": "2019-08-21T08:43:06.248637Z",
     "start_time": "2019-08-21T08:43:03.616341Z"
    }
   },
   "outputs": [],
   "source": [
    "#for svd features to get feature vector creating a dict node val and inedx in svd vector\n",
    "sadj_col = sorted(train_graph.nodes())\n",
    "sadj_dict = { val:idx for idx,val in enumerate(sadj_col)}"
   ]
  },
  {
   "cell_type": "code",
   "execution_count": 15,
   "metadata": {
    "ExecuteTime": {
     "end_time": "2019-08-21T08:44:28.455683Z",
     "start_time": "2019-08-21T08:43:12.880732Z"
    }
   },
   "outputs": [],
   "source": [
    "Adj = nx.adjacency_matrix(train_graph,nodelist=sorted(train_graph.nodes())).asfptype()"
   ]
  },
  {
   "cell_type": "code",
   "execution_count": 16,
   "metadata": {
    "ExecuteTime": {
     "end_time": "2019-08-21T08:53:57.437687Z",
     "start_time": "2019-08-21T08:53:25.217410Z"
    }
   },
   "outputs": [
    {
     "name": "stdout",
     "output_type": "stream",
     "text": [
      "Adjacency matrix Shape (1780722, 1780722)\n",
      "U Shape (1780722, 6)\n",
      "V Shape (6, 1780722)\n",
      "s Shape (6,)\n"
     ]
    }
   ],
   "source": [
    "U, s, V = svds(Adj, k = 6)\n",
    "print('Adjacency matrix Shape',Adj.shape)\n",
    "print('U Shape',U.shape)\n",
    "print('V Shape',V.shape)\n",
    "print('s Shape',s.shape)"
   ]
  },
  {
   "cell_type": "code",
   "execution_count": 17,
   "metadata": {
    "ExecuteTime": {
     "end_time": "2019-08-21T09:02:01.192208Z",
     "start_time": "2019-08-21T09:01:59.635589Z"
    }
   },
   "outputs": [],
   "source": [
    "# for U shape\n",
    "train_source_svd_U = df_final_train.source_node.apply(lambda x: svd(x, U))\n",
    "train_destination_svd_U = df_final_train.destination_node.apply(lambda x: svd(x, U))\n",
    "test_source_svd_U = df_final_test.source_node.apply(lambda x: svd(x, U))\n",
    "test_destination_svd_U = df_final_test.destination_node.apply(lambda x: svd(x, U))"
   ]
  },
  {
   "cell_type": "code",
   "execution_count": 18,
   "metadata": {
    "ExecuteTime": {
     "end_time": "2019-08-21T09:02:16.190328Z",
     "start_time": "2019-08-21T09:02:15.570915Z"
    }
   },
   "outputs": [],
   "source": [
    "## convert list to array FOR U SHAPE\n",
    "train_source_svd_U = np.array([np.array(i) for i in train_source_svd_U])\n",
    "train_destination_svd_U = np.array([np.array(i) for i in train_destination_svd_U])\n",
    "test_source_svd_U = np.array([np.array(i) for i in test_source_svd_U])\n",
    "test_destination_svd_U = np.array([np.array(i) for i in test_destination_svd_U])"
   ]
  },
  {
   "cell_type": "code",
   "execution_count": 19,
   "metadata": {
    "ExecuteTime": {
     "end_time": "2019-08-21T09:02:28.750282Z",
     "start_time": "2019-08-21T09:02:28.300060Z"
    }
   },
   "outputs": [],
   "source": [
    "# for V shape\n",
    "train_source_svd_V = df_final_train.source_node.apply(lambda x: svd(x, V.T))\n",
    "train_destination_svd_V = df_final_train.destination_node.apply(lambda x: svd(x, V.T))\n",
    "test_source_svd_V = df_final_test.source_node.apply(lambda x: svd(x, V.T))\n",
    "test_destination_svd_V = df_final_test.destination_node.apply(lambda x: svd(x, V.T))"
   ]
  },
  {
   "cell_type": "code",
   "execution_count": 20,
   "metadata": {
    "ExecuteTime": {
     "end_time": "2019-08-21T09:02:41.889299Z",
     "start_time": "2019-08-21T09:02:41.278189Z"
    }
   },
   "outputs": [],
   "source": [
    "## convert list to array FOR V SHAPE \n",
    "train_source_svd_V = np.array([np.array(i) for i in train_source_svd_V])\n",
    "train_destination_svd_V = np.array([np.array(i) for i in train_destination_svd_V])\n",
    "test_source_svd_V = np.array([np.array(i) for i in test_source_svd_V])\n",
    "test_destination_svd_V = np.array([np.array(i) for i in test_destination_svd_V])"
   ]
  },
  {
   "cell_type": "code",
   "execution_count": 21,
   "metadata": {
    "ExecuteTime": {
     "end_time": "2019-08-21T09:02:53.252934Z",
     "start_time": "2019-08-21T09:02:53.245939Z"
    }
   },
   "outputs": [
    {
     "name": "stdout",
     "output_type": "stream",
     "text": [
      "(100002, 6)\n",
      "(50002, 6)\n"
     ]
    }
   ],
   "source": [
    "print(train_source_svd_U.shape)\n",
    "print(test_source_svd_U.shape)"
   ]
  },
  {
   "cell_type": "code",
   "execution_count": 22,
   "metadata": {
    "ExecuteTime": {
     "end_time": "2019-08-21T09:02:59.902689Z",
     "start_time": "2019-08-21T09:02:59.886454Z"
    }
   },
   "outputs": [
    {
     "name": "stdout",
     "output_type": "stream",
     "text": [
      "(100002, 6)\n",
      "(50002, 6)\n"
     ]
    }
   ],
   "source": [
    "print(train_source_svd_V.shape)\n",
    "print(test_source_svd_V.shape)"
   ]
  },
  {
   "cell_type": "code",
   "execution_count": 23,
   "metadata": {
    "ExecuteTime": {
     "end_time": "2019-08-21T09:03:21.636888Z",
     "start_time": "2019-08-21T09:03:21.609905Z"
    }
   },
   "outputs": [],
   "source": [
    "# Multuply between Sourse node SVD and Destination node SVD features\n",
    "train_sour_dist_svd_U = np.multiply(train_source_svd_U,train_destination_svd_U)\n",
    "test_sour_dist_svd_U = np.multiply(test_source_svd_U,test_destination_svd_U)"
   ]
  },
  {
   "cell_type": "code",
   "execution_count": 24,
   "metadata": {
    "ExecuteTime": {
     "end_time": "2019-08-21T09:03:28.246541Z",
     "start_time": "2019-08-21T09:03:28.233549Z"
    }
   },
   "outputs": [
    {
     "name": "stdout",
     "output_type": "stream",
     "text": [
      "(100002, 6)\n",
      "(50002, 6)\n"
     ]
    }
   ],
   "source": [
    "print(train_sour_dist_svd_U.shape)\n",
    "print(test_sour_dist_svd_U.shape)"
   ]
  },
  {
   "cell_type": "code",
   "execution_count": 25,
   "metadata": {
    "ExecuteTime": {
     "end_time": "2019-08-21T09:03:56.213785Z",
     "start_time": "2019-08-21T09:03:56.198798Z"
    }
   },
   "outputs": [],
   "source": [
    "# Multiply between Sourse node SVD and Destination node SVD features for V shape\n",
    "train_sour_dist_svd_V = np.multiply(train_source_svd_V,train_destination_svd_V)\n",
    "test_sour_dist_svd_V = np.multiply(test_source_svd_V,test_destination_svd_V)"
   ]
  },
  {
   "cell_type": "code",
   "execution_count": 26,
   "metadata": {
    "ExecuteTime": {
     "end_time": "2019-08-21T09:04:08.399432Z",
     "start_time": "2019-08-21T09:04:08.391439Z"
    }
   },
   "outputs": [
    {
     "name": "stdout",
     "output_type": "stream",
     "text": [
      "(100002, 6)\n",
      "(50002, 6)\n"
     ]
    }
   ],
   "source": [
    "print(train_sour_dist_svd_V.shape)\n",
    "print(test_sour_dist_svd_V.shape)"
   ]
  },
  {
   "cell_type": "code",
   "execution_count": 27,
   "metadata": {
    "ExecuteTime": {
     "end_time": "2019-08-21T09:05:02.998090Z",
     "start_time": "2019-08-21T09:05:02.433113Z"
    }
   },
   "outputs": [
    {
     "data": {
      "text/html": [
       "<div>\n",
       "<style scoped>\n",
       "    .dataframe tbody tr th:only-of-type {\n",
       "        vertical-align: middle;\n",
       "    }\n",
       "\n",
       "    .dataframe tbody tr th {\n",
       "        vertical-align: top;\n",
       "    }\n",
       "\n",
       "    .dataframe thead th {\n",
       "        text-align: right;\n",
       "    }\n",
       "</style>\n",
       "<table border=\"1\" class=\"dataframe\">\n",
       "  <thead>\n",
       "    <tr style=\"text-align: right;\">\n",
       "      <th></th>\n",
       "      <th>svd_mul_u_1</th>\n",
       "      <th>svd_mul_u_2</th>\n",
       "      <th>svd_mul_u_3</th>\n",
       "      <th>svd_mul_u_4</th>\n",
       "      <th>svd_mul_u_5</th>\n",
       "      <th>svd_mul_u_6</th>\n",
       "    </tr>\n",
       "  </thead>\n",
       "  <tbody>\n",
       "    <tr>\n",
       "      <th>0</th>\n",
       "      <td>3.395996e-24</td>\n",
       "      <td>2.490499e-25</td>\n",
       "      <td>1.114951e-11</td>\n",
       "      <td>7.963288e-25</td>\n",
       "      <td>5.587265e-25</td>\n",
       "      <td>1.283841e-23</td>\n",
       "    </tr>\n",
       "    <tr>\n",
       "      <th>1</th>\n",
       "      <td>9.445523e-34</td>\n",
       "      <td>4.270411e-34</td>\n",
       "      <td>4.508973e-33</td>\n",
       "      <td>4.723024e-24</td>\n",
       "      <td>3.336427e-31</td>\n",
       "      <td>1.091166e-17</td>\n",
       "    </tr>\n",
       "  </tbody>\n",
       "</table>\n",
       "</div>"
      ],
      "text/plain": [
       "    svd_mul_u_1   svd_mul_u_2   svd_mul_u_3   svd_mul_u_4   svd_mul_u_5  \\\n",
       "0  3.395996e-24  2.490499e-25  1.114951e-11  7.963288e-25  5.587265e-25   \n",
       "1  9.445523e-34  4.270411e-34  4.508973e-33  4.723024e-24  3.336427e-31   \n",
       "\n",
       "    svd_mul_u_6  \n",
       "0  1.283841e-23  \n",
       "1  1.091166e-17  "
      ]
     },
     "execution_count": 27,
     "metadata": {},
     "output_type": "execute_result"
    }
   ],
   "source": [
    "train_sour_dist_svd_U = pd.DataFrame(train_sour_dist_svd_U,columns=['svd_mul_u_1', 'svd_mul_u_2','svd_mul_u_3', 'svd_mul_u_4', 'svd_mul_u_5', 'svd_mul_u_6'])\n",
    "train_sour_dist_svd_U.head(2)"
   ]
  },
  {
   "cell_type": "code",
   "execution_count": 28,
   "metadata": {
    "ExecuteTime": {
     "end_time": "2019-08-21T09:05:12.472147Z",
     "start_time": "2019-08-21T09:05:12.454159Z"
    }
   },
   "outputs": [
    {
     "data": {
      "text/html": [
       "<div>\n",
       "<style scoped>\n",
       "    .dataframe tbody tr th:only-of-type {\n",
       "        vertical-align: middle;\n",
       "    }\n",
       "\n",
       "    .dataframe tbody tr th {\n",
       "        vertical-align: top;\n",
       "    }\n",
       "\n",
       "    .dataframe thead th {\n",
       "        text-align: right;\n",
       "    }\n",
       "</style>\n",
       "<table border=\"1\" class=\"dataframe\">\n",
       "  <thead>\n",
       "    <tr style=\"text-align: right;\">\n",
       "      <th></th>\n",
       "      <th>svd_mul_u_1</th>\n",
       "      <th>svd_mul_u_2</th>\n",
       "      <th>svd_mul_u_3</th>\n",
       "      <th>svd_mul_u_4</th>\n",
       "      <th>svd_mul_u_5</th>\n",
       "      <th>svd_mul_u_6</th>\n",
       "    </tr>\n",
       "  </thead>\n",
       "  <tbody>\n",
       "    <tr>\n",
       "      <th>0</th>\n",
       "      <td>1.024953e-22</td>\n",
       "      <td>1.214161e-25</td>\n",
       "      <td>8.413963e-20</td>\n",
       "      <td>7.155031e-26</td>\n",
       "      <td>9.437431e-24</td>\n",
       "      <td>1.926952e-29</td>\n",
       "    </tr>\n",
       "    <tr>\n",
       "      <th>1</th>\n",
       "      <td>8.108974e-25</td>\n",
       "      <td>4.879907e-25</td>\n",
       "      <td>1.424150e-22</td>\n",
       "      <td>4.129171e-26</td>\n",
       "      <td>2.419778e-23</td>\n",
       "      <td>9.266452e-30</td>\n",
       "    </tr>\n",
       "  </tbody>\n",
       "</table>\n",
       "</div>"
      ],
      "text/plain": [
       "    svd_mul_u_1   svd_mul_u_2   svd_mul_u_3   svd_mul_u_4   svd_mul_u_5  \\\n",
       "0  1.024953e-22  1.214161e-25  8.413963e-20  7.155031e-26  9.437431e-24   \n",
       "1  8.108974e-25  4.879907e-25  1.424150e-22  4.129171e-26  2.419778e-23   \n",
       "\n",
       "    svd_mul_u_6  \n",
       "0  1.926952e-29  \n",
       "1  9.266452e-30  "
      ]
     },
     "execution_count": 28,
     "metadata": {},
     "output_type": "execute_result"
    }
   ],
   "source": [
    "test_sour_dist_svd_U = pd.DataFrame(test_sour_dist_svd_U,columns=['svd_mul_u_1', 'svd_mul_u_2','svd_mul_u_3', 'svd_mul_u_4', 'svd_mul_u_5', 'svd_mul_u_6'])\n",
    "test_sour_dist_svd_U.head(2)"
   ]
  },
  {
   "cell_type": "code",
   "execution_count": 29,
   "metadata": {
    "ExecuteTime": {
     "end_time": "2019-08-21T09:05:19.545358Z",
     "start_time": "2019-08-21T09:05:19.519373Z"
    }
   },
   "outputs": [
    {
     "data": {
      "text/html": [
       "<div>\n",
       "<style scoped>\n",
       "    .dataframe tbody tr th:only-of-type {\n",
       "        vertical-align: middle;\n",
       "    }\n",
       "\n",
       "    .dataframe tbody tr th {\n",
       "        vertical-align: top;\n",
       "    }\n",
       "\n",
       "    .dataframe thead th {\n",
       "        text-align: right;\n",
       "    }\n",
       "</style>\n",
       "<table border=\"1\" class=\"dataframe\">\n",
       "  <thead>\n",
       "    <tr style=\"text-align: right;\">\n",
       "      <th></th>\n",
       "      <th>svd_mul_v_1</th>\n",
       "      <th>svd_mul_v_2</th>\n",
       "      <th>svd_mul_v_3</th>\n",
       "      <th>svd_mul_v_4</th>\n",
       "      <th>svd_mul_v_5</th>\n",
       "      <th>svd_mul_v_6</th>\n",
       "    </tr>\n",
       "  </thead>\n",
       "  <tbody>\n",
       "    <tr>\n",
       "      <th>0</th>\n",
       "      <td>9.780548e-25</td>\n",
       "      <td>1.835653e-25</td>\n",
       "      <td>2.238777e-12</td>\n",
       "      <td>1.022342e-26</td>\n",
       "      <td>7.922820e-25</td>\n",
       "      <td>7.153990e-28</td>\n",
       "    </tr>\n",
       "    <tr>\n",
       "      <th>1</th>\n",
       "      <td>1.721567e-33</td>\n",
       "      <td>6.706284e-34</td>\n",
       "      <td>9.893972e-33</td>\n",
       "      <td>9.719822e-24</td>\n",
       "      <td>6.670707e-31</td>\n",
       "      <td>2.250992e-17</td>\n",
       "    </tr>\n",
       "  </tbody>\n",
       "</table>\n",
       "</div>"
      ],
      "text/plain": [
       "    svd_mul_v_1   svd_mul_v_2   svd_mul_v_3   svd_mul_v_4   svd_mul_v_5  \\\n",
       "0  9.780548e-25  1.835653e-25  2.238777e-12  1.022342e-26  7.922820e-25   \n",
       "1  1.721567e-33  6.706284e-34  9.893972e-33  9.719822e-24  6.670707e-31   \n",
       "\n",
       "    svd_mul_v_6  \n",
       "0  7.153990e-28  \n",
       "1  2.250992e-17  "
      ]
     },
     "execution_count": 29,
     "metadata": {},
     "output_type": "execute_result"
    }
   ],
   "source": [
    "train_sour_dist_svd_V = pd.DataFrame(train_sour_dist_svd_V,columns=['svd_mul_v_1', 'svd_mul_v_2','svd_mul_v_3', 'svd_mul_v_4', 'svd_mul_v_5', 'svd_mul_v_6'])\n",
    "train_sour_dist_svd_V.head(2)"
   ]
  },
  {
   "cell_type": "code",
   "execution_count": 30,
   "metadata": {
    "ExecuteTime": {
     "end_time": "2019-08-21T09:05:30.645895Z",
     "start_time": "2019-08-21T09:05:30.619932Z"
    }
   },
   "outputs": [
    {
     "data": {
      "text/html": [
       "<div>\n",
       "<style scoped>\n",
       "    .dataframe tbody tr th:only-of-type {\n",
       "        vertical-align: middle;\n",
       "    }\n",
       "\n",
       "    .dataframe tbody tr th {\n",
       "        vertical-align: top;\n",
       "    }\n",
       "\n",
       "    .dataframe thead th {\n",
       "        text-align: right;\n",
       "    }\n",
       "</style>\n",
       "<table border=\"1\" class=\"dataframe\">\n",
       "  <thead>\n",
       "    <tr style=\"text-align: right;\">\n",
       "      <th></th>\n",
       "      <th>svd_mul_v_1</th>\n",
       "      <th>svd_mul_v_2</th>\n",
       "      <th>svd_mul_v_3</th>\n",
       "      <th>svd_mul_v_4</th>\n",
       "      <th>svd_mul_v_5</th>\n",
       "      <th>svd_mul_v_6</th>\n",
       "    </tr>\n",
       "  </thead>\n",
       "  <tbody>\n",
       "    <tr>\n",
       "      <th>0</th>\n",
       "      <td>2.147580e-22</td>\n",
       "      <td>1.090767e-22</td>\n",
       "      <td>2.073977e-17</td>\n",
       "      <td>6.717807e-21</td>\n",
       "      <td>1.203126e-21</td>\n",
       "      <td>9.563661e-26</td>\n",
       "    </tr>\n",
       "    <tr>\n",
       "      <th>1</th>\n",
       "      <td>2.570858e-24</td>\n",
       "      <td>1.650558e-24</td>\n",
       "      <td>2.248463e-22</td>\n",
       "      <td>7.300547e-26</td>\n",
       "      <td>6.389662e-24</td>\n",
       "      <td>5.057017e-30</td>\n",
       "    </tr>\n",
       "  </tbody>\n",
       "</table>\n",
       "</div>"
      ],
      "text/plain": [
       "    svd_mul_v_1   svd_mul_v_2   svd_mul_v_3   svd_mul_v_4   svd_mul_v_5  \\\n",
       "0  2.147580e-22  1.090767e-22  2.073977e-17  6.717807e-21  1.203126e-21   \n",
       "1  2.570858e-24  1.650558e-24  2.248463e-22  7.300547e-26  6.389662e-24   \n",
       "\n",
       "    svd_mul_v_6  \n",
       "0  9.563661e-26  \n",
       "1  5.057017e-30  "
      ]
     },
     "execution_count": 30,
     "metadata": {},
     "output_type": "execute_result"
    }
   ],
   "source": [
    "test_sour_dist_svd_V = pd.DataFrame(test_sour_dist_svd_V,columns=['svd_mul_v_1', 'svd_mul_v_2','svd_mul_v_3', 'svd_mul_v_4', 'svd_mul_v_5', 'svd_mul_v_6'])\n",
    "test_sour_dist_svd_V.head(2)"
   ]
  },
  {
   "cell_type": "markdown",
   "metadata": {},
   "source": [
    "#### Calculate svd_dot as multiply between Sourse node SVD and Destination node SVD features"
   ]
  },
  {
   "cell_type": "code",
   "execution_count": 31,
   "metadata": {
    "ExecuteTime": {
     "end_time": "2019-08-21T09:06:09.716464Z",
     "start_time": "2019-08-21T09:06:08.563963Z"
    }
   },
   "outputs": [
    {
     "data": {
      "text/html": [
       "<div>\n",
       "<style scoped>\n",
       "    .dataframe tbody tr th:only-of-type {\n",
       "        vertical-align: middle;\n",
       "    }\n",
       "\n",
       "    .dataframe tbody tr th {\n",
       "        vertical-align: top;\n",
       "    }\n",
       "\n",
       "    .dataframe thead th {\n",
       "        text-align: right;\n",
       "    }\n",
       "</style>\n",
       "<table border=\"1\" class=\"dataframe\">\n",
       "  <thead>\n",
       "    <tr style=\"text-align: right;\">\n",
       "      <th></th>\n",
       "      <th>svd_mul_u_1</th>\n",
       "      <th>svd_mul_u_2</th>\n",
       "      <th>svd_mul_u_3</th>\n",
       "      <th>svd_mul_u_4</th>\n",
       "      <th>svd_mul_u_5</th>\n",
       "      <th>svd_mul_u_6</th>\n",
       "      <th>sour_dist_svd_dot_U</th>\n",
       "    </tr>\n",
       "  </thead>\n",
       "  <tbody>\n",
       "    <tr>\n",
       "      <th>0</th>\n",
       "      <td>3.395996e-24</td>\n",
       "      <td>2.490499e-25</td>\n",
       "      <td>1.114951e-11</td>\n",
       "      <td>7.963288e-25</td>\n",
       "      <td>5.587265e-25</td>\n",
       "      <td>1.283841e-23</td>\n",
       "      <td>1.114951e-11</td>\n",
       "    </tr>\n",
       "    <tr>\n",
       "      <th>1</th>\n",
       "      <td>9.445523e-34</td>\n",
       "      <td>4.270411e-34</td>\n",
       "      <td>4.508973e-33</td>\n",
       "      <td>4.723024e-24</td>\n",
       "      <td>3.336427e-31</td>\n",
       "      <td>1.091166e-17</td>\n",
       "      <td>1.091166e-17</td>\n",
       "    </tr>\n",
       "  </tbody>\n",
       "</table>\n",
       "</div>"
      ],
      "text/plain": [
       "    svd_mul_u_1   svd_mul_u_2   svd_mul_u_3   svd_mul_u_4   svd_mul_u_5  \\\n",
       "0  3.395996e-24  2.490499e-25  1.114951e-11  7.963288e-25  5.587265e-25   \n",
       "1  9.445523e-34  4.270411e-34  4.508973e-33  4.723024e-24  3.336427e-31   \n",
       "\n",
       "    svd_mul_u_6  sour_dist_svd_dot_U  \n",
       "0  1.283841e-23         1.114951e-11  \n",
       "1  1.091166e-17         1.091166e-17  "
      ]
     },
     "execution_count": 31,
     "metadata": {},
     "output_type": "execute_result"
    }
   ],
   "source": [
    "train_sour_dist_svd_U['sour_dist_svd_dot_U'] = train_sour_dist_svd_U.sum(axis=1)\n",
    "train_sour_dist_svd_V['sour_dist_svd_dot_V'] = train_sour_dist_svd_V.sum(axis=1)\n",
    "train_sour_dist_svd_U.head(2)"
   ]
  },
  {
   "cell_type": "code",
   "execution_count": 32,
   "metadata": {
    "ExecuteTime": {
     "end_time": "2019-08-21T09:06:21.101808Z",
     "start_time": "2019-08-21T09:06:21.081821Z"
    }
   },
   "outputs": [
    {
     "data": {
      "text/html": [
       "<div>\n",
       "<style scoped>\n",
       "    .dataframe tbody tr th:only-of-type {\n",
       "        vertical-align: middle;\n",
       "    }\n",
       "\n",
       "    .dataframe tbody tr th {\n",
       "        vertical-align: top;\n",
       "    }\n",
       "\n",
       "    .dataframe thead th {\n",
       "        text-align: right;\n",
       "    }\n",
       "</style>\n",
       "<table border=\"1\" class=\"dataframe\">\n",
       "  <thead>\n",
       "    <tr style=\"text-align: right;\">\n",
       "      <th></th>\n",
       "      <th>svd_mul_v_1</th>\n",
       "      <th>svd_mul_v_2</th>\n",
       "      <th>svd_mul_v_3</th>\n",
       "      <th>svd_mul_v_4</th>\n",
       "      <th>svd_mul_v_5</th>\n",
       "      <th>svd_mul_v_6</th>\n",
       "      <th>sour_dist_svd_dot_V</th>\n",
       "    </tr>\n",
       "  </thead>\n",
       "  <tbody>\n",
       "    <tr>\n",
       "      <th>0</th>\n",
       "      <td>9.780548e-25</td>\n",
       "      <td>1.835653e-25</td>\n",
       "      <td>2.238777e-12</td>\n",
       "      <td>1.022342e-26</td>\n",
       "      <td>7.922820e-25</td>\n",
       "      <td>7.153990e-28</td>\n",
       "      <td>2.238777e-12</td>\n",
       "    </tr>\n",
       "    <tr>\n",
       "      <th>1</th>\n",
       "      <td>1.721567e-33</td>\n",
       "      <td>6.706284e-34</td>\n",
       "      <td>9.893972e-33</td>\n",
       "      <td>9.719822e-24</td>\n",
       "      <td>6.670707e-31</td>\n",
       "      <td>2.250992e-17</td>\n",
       "      <td>2.250993e-17</td>\n",
       "    </tr>\n",
       "  </tbody>\n",
       "</table>\n",
       "</div>"
      ],
      "text/plain": [
       "    svd_mul_v_1   svd_mul_v_2   svd_mul_v_3   svd_mul_v_4   svd_mul_v_5  \\\n",
       "0  9.780548e-25  1.835653e-25  2.238777e-12  1.022342e-26  7.922820e-25   \n",
       "1  1.721567e-33  6.706284e-34  9.893972e-33  9.719822e-24  6.670707e-31   \n",
       "\n",
       "    svd_mul_v_6  sour_dist_svd_dot_V  \n",
       "0  7.153990e-28         2.238777e-12  \n",
       "1  2.250992e-17         2.250993e-17  "
      ]
     },
     "execution_count": 32,
     "metadata": {},
     "output_type": "execute_result"
    }
   ],
   "source": [
    "train_sour_dist_svd_V.head(2)"
   ]
  },
  {
   "cell_type": "code",
   "execution_count": 33,
   "metadata": {
    "ExecuteTime": {
     "end_time": "2019-08-21T09:06:30.493047Z",
     "start_time": "2019-08-21T09:06:30.448072Z"
    }
   },
   "outputs": [
    {
     "data": {
      "text/html": [
       "<div>\n",
       "<style scoped>\n",
       "    .dataframe tbody tr th:only-of-type {\n",
       "        vertical-align: middle;\n",
       "    }\n",
       "\n",
       "    .dataframe tbody tr th {\n",
       "        vertical-align: top;\n",
       "    }\n",
       "\n",
       "    .dataframe thead th {\n",
       "        text-align: right;\n",
       "    }\n",
       "</style>\n",
       "<table border=\"1\" class=\"dataframe\">\n",
       "  <thead>\n",
       "    <tr style=\"text-align: right;\">\n",
       "      <th></th>\n",
       "      <th>svd_mul_u_1</th>\n",
       "      <th>svd_mul_u_2</th>\n",
       "      <th>svd_mul_u_3</th>\n",
       "      <th>svd_mul_u_4</th>\n",
       "      <th>svd_mul_u_5</th>\n",
       "      <th>svd_mul_u_6</th>\n",
       "      <th>sour_dist_svd_dot_U</th>\n",
       "    </tr>\n",
       "  </thead>\n",
       "  <tbody>\n",
       "    <tr>\n",
       "      <th>0</th>\n",
       "      <td>1.024953e-22</td>\n",
       "      <td>1.214161e-25</td>\n",
       "      <td>8.413963e-20</td>\n",
       "      <td>7.155031e-26</td>\n",
       "      <td>9.437431e-24</td>\n",
       "      <td>1.926952e-29</td>\n",
       "      <td>8.425175e-20</td>\n",
       "    </tr>\n",
       "    <tr>\n",
       "      <th>1</th>\n",
       "      <td>8.108974e-25</td>\n",
       "      <td>4.879907e-25</td>\n",
       "      <td>1.424150e-22</td>\n",
       "      <td>4.129171e-26</td>\n",
       "      <td>2.419778e-23</td>\n",
       "      <td>9.266452e-30</td>\n",
       "      <td>1.679530e-22</td>\n",
       "    </tr>\n",
       "  </tbody>\n",
       "</table>\n",
       "</div>"
      ],
      "text/plain": [
       "    svd_mul_u_1   svd_mul_u_2   svd_mul_u_3   svd_mul_u_4   svd_mul_u_5  \\\n",
       "0  1.024953e-22  1.214161e-25  8.413963e-20  7.155031e-26  9.437431e-24   \n",
       "1  8.108974e-25  4.879907e-25  1.424150e-22  4.129171e-26  2.419778e-23   \n",
       "\n",
       "    svd_mul_u_6  sour_dist_svd_dot_U  \n",
       "0  1.926952e-29         8.425175e-20  \n",
       "1  9.266452e-30         1.679530e-22  "
      ]
     },
     "execution_count": 33,
     "metadata": {},
     "output_type": "execute_result"
    }
   ],
   "source": [
    "test_sour_dist_svd_U['sour_dist_svd_dot_U'] = test_sour_dist_svd_U.sum(axis=1)\n",
    "test_sour_dist_svd_V['sour_dist_svd_dot_V'] = test_sour_dist_svd_V.sum(axis=1)\n",
    "test_sour_dist_svd_U.head(2)"
   ]
  },
  {
   "cell_type": "code",
   "execution_count": 34,
   "metadata": {
    "ExecuteTime": {
     "end_time": "2019-08-21T09:06:39.937294Z",
     "start_time": "2019-08-21T09:06:39.916307Z"
    }
   },
   "outputs": [
    {
     "data": {
      "text/html": [
       "<div>\n",
       "<style scoped>\n",
       "    .dataframe tbody tr th:only-of-type {\n",
       "        vertical-align: middle;\n",
       "    }\n",
       "\n",
       "    .dataframe tbody tr th {\n",
       "        vertical-align: top;\n",
       "    }\n",
       "\n",
       "    .dataframe thead th {\n",
       "        text-align: right;\n",
       "    }\n",
       "</style>\n",
       "<table border=\"1\" class=\"dataframe\">\n",
       "  <thead>\n",
       "    <tr style=\"text-align: right;\">\n",
       "      <th></th>\n",
       "      <th>svd_mul_v_1</th>\n",
       "      <th>svd_mul_v_2</th>\n",
       "      <th>svd_mul_v_3</th>\n",
       "      <th>svd_mul_v_4</th>\n",
       "      <th>svd_mul_v_5</th>\n",
       "      <th>svd_mul_v_6</th>\n",
       "      <th>sour_dist_svd_dot_V</th>\n",
       "    </tr>\n",
       "  </thead>\n",
       "  <tbody>\n",
       "    <tr>\n",
       "      <th>0</th>\n",
       "      <td>2.147580e-22</td>\n",
       "      <td>1.090767e-22</td>\n",
       "      <td>2.073977e-17</td>\n",
       "      <td>6.717807e-21</td>\n",
       "      <td>1.203126e-21</td>\n",
       "      <td>9.563661e-26</td>\n",
       "      <td>2.074802e-17</td>\n",
       "    </tr>\n",
       "    <tr>\n",
       "      <th>1</th>\n",
       "      <td>2.570858e-24</td>\n",
       "      <td>1.650558e-24</td>\n",
       "      <td>2.248463e-22</td>\n",
       "      <td>7.300547e-26</td>\n",
       "      <td>6.389662e-24</td>\n",
       "      <td>5.057017e-30</td>\n",
       "      <td>2.355304e-22</td>\n",
       "    </tr>\n",
       "  </tbody>\n",
       "</table>\n",
       "</div>"
      ],
      "text/plain": [
       "    svd_mul_v_1   svd_mul_v_2   svd_mul_v_3   svd_mul_v_4   svd_mul_v_5  \\\n",
       "0  2.147580e-22  1.090767e-22  2.073977e-17  6.717807e-21  1.203126e-21   \n",
       "1  2.570858e-24  1.650558e-24  2.248463e-22  7.300547e-26  6.389662e-24   \n",
       "\n",
       "    svd_mul_v_6  sour_dist_svd_dot_V  \n",
       "0  9.563661e-26         2.074802e-17  \n",
       "1  5.057017e-30         2.355304e-22  "
      ]
     },
     "execution_count": 34,
     "metadata": {},
     "output_type": "execute_result"
    }
   ],
   "source": [
    "test_sour_dist_svd_V.head(2)"
   ]
  },
  {
   "cell_type": "markdown",
   "metadata": {},
   "source": [
    "### Adding new set of features"
   ]
  },
  {
   "cell_type": "code",
   "execution_count": 35,
   "metadata": {
    "ExecuteTime": {
     "end_time": "2019-08-21T09:06:48.121871Z",
     "start_time": "2019-08-21T09:06:47.547237Z"
    }
   },
   "outputs": [
    {
     "data": {
      "text/html": [
       "<div>\n",
       "<style scoped>\n",
       "    .dataframe tbody tr th:only-of-type {\n",
       "        vertical-align: middle;\n",
       "    }\n",
       "\n",
       "    .dataframe tbody tr th {\n",
       "        vertical-align: top;\n",
       "    }\n",
       "\n",
       "    .dataframe thead th {\n",
       "        text-align: right;\n",
       "    }\n",
       "</style>\n",
       "<table border=\"1\" class=\"dataframe\">\n",
       "  <thead>\n",
       "    <tr style=\"text-align: right;\">\n",
       "      <th></th>\n",
       "      <th>source_node</th>\n",
       "      <th>destination_node</th>\n",
       "      <th>indicator_link</th>\n",
       "      <th>jaccard_followers</th>\n",
       "      <th>jaccard_followees</th>\n",
       "      <th>cosine_followers</th>\n",
       "      <th>cosine_followees</th>\n",
       "      <th>num_followers_s</th>\n",
       "      <th>num_followers_d</th>\n",
       "      <th>num_followees_s</th>\n",
       "      <th>...</th>\n",
       "      <th>svd_mul_u_5</th>\n",
       "      <th>svd_mul_u_6</th>\n",
       "      <th>sour_dist_svd_dot_U</th>\n",
       "      <th>svd_mul_v_1</th>\n",
       "      <th>svd_mul_v_2</th>\n",
       "      <th>svd_mul_v_3</th>\n",
       "      <th>svd_mul_v_4</th>\n",
       "      <th>svd_mul_v_5</th>\n",
       "      <th>svd_mul_v_6</th>\n",
       "      <th>sour_dist_svd_dot_V</th>\n",
       "    </tr>\n",
       "  </thead>\n",
       "  <tbody>\n",
       "    <tr>\n",
       "      <th>0</th>\n",
       "      <td>273084</td>\n",
       "      <td>1505602</td>\n",
       "      <td>1</td>\n",
       "      <td>0.000000</td>\n",
       "      <td>0.000000</td>\n",
       "      <td>0.000000</td>\n",
       "      <td>0.000000</td>\n",
       "      <td>11</td>\n",
       "      <td>6</td>\n",
       "      <td>15</td>\n",
       "      <td>...</td>\n",
       "      <td>5.587265e-25</td>\n",
       "      <td>1.283841e-23</td>\n",
       "      <td>1.114951e-11</td>\n",
       "      <td>9.780548e-25</td>\n",
       "      <td>1.835653e-25</td>\n",
       "      <td>2.238777e-12</td>\n",
       "      <td>1.022342e-26</td>\n",
       "      <td>7.922820e-25</td>\n",
       "      <td>7.153990e-28</td>\n",
       "      <td>2.238777e-12</td>\n",
       "    </tr>\n",
       "    <tr>\n",
       "      <th>1</th>\n",
       "      <td>1070610</td>\n",
       "      <td>1194809</td>\n",
       "      <td>1</td>\n",
       "      <td>0.478261</td>\n",
       "      <td>0.083333</td>\n",
       "      <td>0.657376</td>\n",
       "      <td>0.253546</td>\n",
       "      <td>14</td>\n",
       "      <td>20</td>\n",
       "      <td>35</td>\n",
       "      <td>...</td>\n",
       "      <td>3.336427e-31</td>\n",
       "      <td>1.091166e-17</td>\n",
       "      <td>1.091166e-17</td>\n",
       "      <td>1.721567e-33</td>\n",
       "      <td>6.706284e-34</td>\n",
       "      <td>9.893972e-33</td>\n",
       "      <td>9.719822e-24</td>\n",
       "      <td>6.670707e-31</td>\n",
       "      <td>2.250992e-17</td>\n",
       "      <td>2.250993e-17</td>\n",
       "    </tr>\n",
       "    <tr>\n",
       "      <th>2</th>\n",
       "      <td>299485</td>\n",
       "      <td>1338688</td>\n",
       "      <td>1</td>\n",
       "      <td>0.000000</td>\n",
       "      <td>0.000000</td>\n",
       "      <td>0.000000</td>\n",
       "      <td>0.000000</td>\n",
       "      <td>7</td>\n",
       "      <td>1</td>\n",
       "      <td>9</td>\n",
       "      <td>...</td>\n",
       "      <td>-6.301645e-32</td>\n",
       "      <td>6.556321e-35</td>\n",
       "      <td>-8.066712e-32</td>\n",
       "      <td>6.198801e-34</td>\n",
       "      <td>8.001580e-32</td>\n",
       "      <td>1.539390e-30</td>\n",
       "      <td>6.248021e-31</td>\n",
       "      <td>1.836809e-30</td>\n",
       "      <td>1.887255e-36</td>\n",
       "      <td>4.081638e-30</td>\n",
       "    </tr>\n",
       "    <tr>\n",
       "      <th>3</th>\n",
       "      <td>387414</td>\n",
       "      <td>1708319</td>\n",
       "      <td>1</td>\n",
       "      <td>0.000000</td>\n",
       "      <td>0.000000</td>\n",
       "      <td>0.000000</td>\n",
       "      <td>0.000000</td>\n",
       "      <td>10</td>\n",
       "      <td>1</td>\n",
       "      <td>16</td>\n",
       "      <td>...</td>\n",
       "      <td>1.190295e-30</td>\n",
       "      <td>-5.637058e-34</td>\n",
       "      <td>4.042934e-29</td>\n",
       "      <td>9.654720e-26</td>\n",
       "      <td>3.418601e-24</td>\n",
       "      <td>8.065218e-24</td>\n",
       "      <td>8.951815e-24</td>\n",
       "      <td>2.408065e-25</td>\n",
       "      <td>3.912229e-31</td>\n",
       "      <td>2.077299e-23</td>\n",
       "    </tr>\n",
       "    <tr>\n",
       "      <th>4</th>\n",
       "      <td>568515</td>\n",
       "      <td>183503</td>\n",
       "      <td>1</td>\n",
       "      <td>0.126126</td>\n",
       "      <td>0.131944</td>\n",
       "      <td>0.305505</td>\n",
       "      <td>0.258989</td>\n",
       "      <td>20</td>\n",
       "      <td>105</td>\n",
       "      <td>117</td>\n",
       "      <td>...</td>\n",
       "      <td>1.442098e-28</td>\n",
       "      <td>1.270275e-16</td>\n",
       "      <td>1.272300e-16</td>\n",
       "      <td>4.193625e-30</td>\n",
       "      <td>3.681151e-30</td>\n",
       "      <td>5.042917e-29</td>\n",
       "      <td>2.725896e-19</td>\n",
       "      <td>7.102719e-29</td>\n",
       "      <td>1.355876e-16</td>\n",
       "      <td>1.358602e-16</td>\n",
       "    </tr>\n",
       "  </tbody>\n",
       "</table>\n",
       "<p>5 rows × 71 columns</p>\n",
       "</div>"
      ],
      "text/plain": [
       "   source_node  destination_node  indicator_link  jaccard_followers  \\\n",
       "0       273084           1505602               1           0.000000   \n",
       "1      1070610           1194809               1           0.478261   \n",
       "2       299485           1338688               1           0.000000   \n",
       "3       387414           1708319               1           0.000000   \n",
       "4       568515            183503               1           0.126126   \n",
       "\n",
       "   jaccard_followees  cosine_followers  cosine_followees  num_followers_s  \\\n",
       "0           0.000000          0.000000          0.000000               11   \n",
       "1           0.083333          0.657376          0.253546               14   \n",
       "2           0.000000          0.000000          0.000000                7   \n",
       "3           0.000000          0.000000          0.000000               10   \n",
       "4           0.131944          0.305505          0.258989               20   \n",
       "\n",
       "   num_followers_d  num_followees_s  ...   svd_mul_u_5   svd_mul_u_6  \\\n",
       "0                6               15  ...  5.587265e-25  1.283841e-23   \n",
       "1               20               35  ...  3.336427e-31  1.091166e-17   \n",
       "2                1                9  ... -6.301645e-32  6.556321e-35   \n",
       "3                1               16  ...  1.190295e-30 -5.637058e-34   \n",
       "4              105              117  ...  1.442098e-28  1.270275e-16   \n",
       "\n",
       "   sour_dist_svd_dot_U   svd_mul_v_1   svd_mul_v_2   svd_mul_v_3  \\\n",
       "0         1.114951e-11  9.780548e-25  1.835653e-25  2.238777e-12   \n",
       "1         1.091166e-17  1.721567e-33  6.706284e-34  9.893972e-33   \n",
       "2        -8.066712e-32  6.198801e-34  8.001580e-32  1.539390e-30   \n",
       "3         4.042934e-29  9.654720e-26  3.418601e-24  8.065218e-24   \n",
       "4         1.272300e-16  4.193625e-30  3.681151e-30  5.042917e-29   \n",
       "\n",
       "    svd_mul_v_4   svd_mul_v_5   svd_mul_v_6  sour_dist_svd_dot_V  \n",
       "0  1.022342e-26  7.922820e-25  7.153990e-28         2.238777e-12  \n",
       "1  9.719822e-24  6.670707e-31  2.250992e-17         2.250993e-17  \n",
       "2  6.248021e-31  1.836809e-30  1.887255e-36         4.081638e-30  \n",
       "3  8.951815e-24  2.408065e-25  3.912229e-31         2.077299e-23  \n",
       "4  2.725896e-19  7.102719e-29  1.355876e-16         1.358602e-16  \n",
       "\n",
       "[5 rows x 71 columns]"
      ]
     },
     "execution_count": 35,
     "metadata": {},
     "output_type": "execute_result"
    }
   ],
   "source": [
    "df_final_train = pd.concat([df_final_train,train_sour_dist_svd_U], axis=1)\n",
    "df_final_train = pd.concat([df_final_train,train_sour_dist_svd_V], axis=1)\n",
    "df_final_train.head(5)"
   ]
  },
  {
   "cell_type": "code",
   "execution_count": 36,
   "metadata": {
    "ExecuteTime": {
     "end_time": "2019-08-21T09:07:13.691633Z",
     "start_time": "2019-08-21T09:07:13.324847Z"
    }
   },
   "outputs": [
    {
     "data": {
      "text/html": [
       "<div>\n",
       "<style scoped>\n",
       "    .dataframe tbody tr th:only-of-type {\n",
       "        vertical-align: middle;\n",
       "    }\n",
       "\n",
       "    .dataframe tbody tr th {\n",
       "        vertical-align: top;\n",
       "    }\n",
       "\n",
       "    .dataframe thead th {\n",
       "        text-align: right;\n",
       "    }\n",
       "</style>\n",
       "<table border=\"1\" class=\"dataframe\">\n",
       "  <thead>\n",
       "    <tr style=\"text-align: right;\">\n",
       "      <th></th>\n",
       "      <th>source_node</th>\n",
       "      <th>destination_node</th>\n",
       "      <th>indicator_link</th>\n",
       "      <th>jaccard_followers</th>\n",
       "      <th>jaccard_followees</th>\n",
       "      <th>cosine_followers</th>\n",
       "      <th>cosine_followees</th>\n",
       "      <th>num_followers_s</th>\n",
       "      <th>num_followers_d</th>\n",
       "      <th>num_followees_s</th>\n",
       "      <th>...</th>\n",
       "      <th>svd_mul_u_5</th>\n",
       "      <th>svd_mul_u_6</th>\n",
       "      <th>sour_dist_svd_dot_U</th>\n",
       "      <th>svd_mul_v_1</th>\n",
       "      <th>svd_mul_v_2</th>\n",
       "      <th>svd_mul_v_3</th>\n",
       "      <th>svd_mul_v_4</th>\n",
       "      <th>svd_mul_v_5</th>\n",
       "      <th>svd_mul_v_6</th>\n",
       "      <th>sour_dist_svd_dot_V</th>\n",
       "    </tr>\n",
       "  </thead>\n",
       "  <tbody>\n",
       "    <tr>\n",
       "      <th>0</th>\n",
       "      <td>848424</td>\n",
       "      <td>784690</td>\n",
       "      <td>1</td>\n",
       "      <td>0.052632</td>\n",
       "      <td>0.000000</td>\n",
       "      <td>0.109109</td>\n",
       "      <td>0.000000</td>\n",
       "      <td>6</td>\n",
       "      <td>14</td>\n",
       "      <td>6</td>\n",
       "      <td>...</td>\n",
       "      <td>9.437431e-24</td>\n",
       "      <td>1.926952e-29</td>\n",
       "      <td>8.425175e-20</td>\n",
       "      <td>2.147580e-22</td>\n",
       "      <td>1.090767e-22</td>\n",
       "      <td>2.073977e-17</td>\n",
       "      <td>6.717807e-21</td>\n",
       "      <td>1.203126e-21</td>\n",
       "      <td>9.563661e-26</td>\n",
       "      <td>2.074802e-17</td>\n",
       "    </tr>\n",
       "    <tr>\n",
       "      <th>1</th>\n",
       "      <td>1282653</td>\n",
       "      <td>659527</td>\n",
       "      <td>1</td>\n",
       "      <td>0.000000</td>\n",
       "      <td>0.000000</td>\n",
       "      <td>0.000000</td>\n",
       "      <td>0.000000</td>\n",
       "      <td>2</td>\n",
       "      <td>5</td>\n",
       "      <td>1</td>\n",
       "      <td>...</td>\n",
       "      <td>2.419778e-23</td>\n",
       "      <td>9.266452e-30</td>\n",
       "      <td>1.679530e-22</td>\n",
       "      <td>2.570858e-24</td>\n",
       "      <td>1.650558e-24</td>\n",
       "      <td>2.248463e-22</td>\n",
       "      <td>7.300547e-26</td>\n",
       "      <td>6.389662e-24</td>\n",
       "      <td>5.057017e-30</td>\n",
       "      <td>2.355304e-22</td>\n",
       "    </tr>\n",
       "    <tr>\n",
       "      <th>2</th>\n",
       "      <td>1199100</td>\n",
       "      <td>991335</td>\n",
       "      <td>1</td>\n",
       "      <td>0.000000</td>\n",
       "      <td>0.000000</td>\n",
       "      <td>0.000000</td>\n",
       "      <td>0.000000</td>\n",
       "      <td>17</td>\n",
       "      <td>1</td>\n",
       "      <td>16</td>\n",
       "      <td>...</td>\n",
       "      <td>1.375791e-22</td>\n",
       "      <td>3.922628e-25</td>\n",
       "      <td>8.667626e-11</td>\n",
       "      <td>3.194986e-24</td>\n",
       "      <td>6.044741e-25</td>\n",
       "      <td>6.547692e-12</td>\n",
       "      <td>8.252135e-26</td>\n",
       "      <td>1.587976e-24</td>\n",
       "      <td>2.199484e-26</td>\n",
       "      <td>6.547692e-12</td>\n",
       "    </tr>\n",
       "    <tr>\n",
       "      <th>3</th>\n",
       "      <td>1663641</td>\n",
       "      <td>58705</td>\n",
       "      <td>1</td>\n",
       "      <td>0.062500</td>\n",
       "      <td>0.117647</td>\n",
       "      <td>0.125739</td>\n",
       "      <td>0.218218</td>\n",
       "      <td>11</td>\n",
       "      <td>23</td>\n",
       "      <td>14</td>\n",
       "      <td>...</td>\n",
       "      <td>3.998241e-21</td>\n",
       "      <td>2.224534e-22</td>\n",
       "      <td>4.059283e-09</td>\n",
       "      <td>1.883950e-23</td>\n",
       "      <td>2.960936e-22</td>\n",
       "      <td>3.689788e-21</td>\n",
       "      <td>1.478217e-08</td>\n",
       "      <td>2.222510e-21</td>\n",
       "      <td>9.869237e-22</td>\n",
       "      <td>1.478217e-08</td>\n",
       "    </tr>\n",
       "    <tr>\n",
       "      <th>4</th>\n",
       "      <td>578054</td>\n",
       "      <td>146673</td>\n",
       "      <td>1</td>\n",
       "      <td>0.041667</td>\n",
       "      <td>0.038462</td>\n",
       "      <td>0.093659</td>\n",
       "      <td>0.081111</td>\n",
       "      <td>19</td>\n",
       "      <td>6</td>\n",
       "      <td>19</td>\n",
       "      <td>...</td>\n",
       "      <td>1.047481e-21</td>\n",
       "      <td>4.419404e-31</td>\n",
       "      <td>2.608997e-21</td>\n",
       "      <td>2.828938e-29</td>\n",
       "      <td>1.210826e-23</td>\n",
       "      <td>4.523007e-24</td>\n",
       "      <td>9.379109e-29</td>\n",
       "      <td>1.281265e-24</td>\n",
       "      <td>1.191966e-30</td>\n",
       "      <td>1.791265e-23</td>\n",
       "    </tr>\n",
       "  </tbody>\n",
       "</table>\n",
       "<p>5 rows × 71 columns</p>\n",
       "</div>"
      ],
      "text/plain": [
       "   source_node  destination_node  indicator_link  jaccard_followers  \\\n",
       "0       848424            784690               1           0.052632   \n",
       "1      1282653            659527               1           0.000000   \n",
       "2      1199100            991335               1           0.000000   \n",
       "3      1663641             58705               1           0.062500   \n",
       "4       578054            146673               1           0.041667   \n",
       "\n",
       "   jaccard_followees  cosine_followers  cosine_followees  num_followers_s  \\\n",
       "0           0.000000          0.109109          0.000000                6   \n",
       "1           0.000000          0.000000          0.000000                2   \n",
       "2           0.000000          0.000000          0.000000               17   \n",
       "3           0.117647          0.125739          0.218218               11   \n",
       "4           0.038462          0.093659          0.081111               19   \n",
       "\n",
       "   num_followers_d  num_followees_s  ...   svd_mul_u_5   svd_mul_u_6  \\\n",
       "0               14                6  ...  9.437431e-24  1.926952e-29   \n",
       "1                5                1  ...  2.419778e-23  9.266452e-30   \n",
       "2                1               16  ...  1.375791e-22  3.922628e-25   \n",
       "3               23               14  ...  3.998241e-21  2.224534e-22   \n",
       "4                6               19  ...  1.047481e-21  4.419404e-31   \n",
       "\n",
       "   sour_dist_svd_dot_U   svd_mul_v_1   svd_mul_v_2   svd_mul_v_3  \\\n",
       "0         8.425175e-20  2.147580e-22  1.090767e-22  2.073977e-17   \n",
       "1         1.679530e-22  2.570858e-24  1.650558e-24  2.248463e-22   \n",
       "2         8.667626e-11  3.194986e-24  6.044741e-25  6.547692e-12   \n",
       "3         4.059283e-09  1.883950e-23  2.960936e-22  3.689788e-21   \n",
       "4         2.608997e-21  2.828938e-29  1.210826e-23  4.523007e-24   \n",
       "\n",
       "    svd_mul_v_4   svd_mul_v_5   svd_mul_v_6  sour_dist_svd_dot_V  \n",
       "0  6.717807e-21  1.203126e-21  9.563661e-26         2.074802e-17  \n",
       "1  7.300547e-26  6.389662e-24  5.057017e-30         2.355304e-22  \n",
       "2  8.252135e-26  1.587976e-24  2.199484e-26         6.547692e-12  \n",
       "3  1.478217e-08  2.222510e-21  9.869237e-22         1.478217e-08  \n",
       "4  9.379109e-29  1.281265e-24  1.191966e-30         1.791265e-23  \n",
       "\n",
       "[5 rows x 71 columns]"
      ]
     },
     "execution_count": 36,
     "metadata": {},
     "output_type": "execute_result"
    }
   ],
   "source": [
    "df_final_test = pd.concat([df_final_test,test_sour_dist_svd_U], axis=1)\n",
    "df_final_test = pd.concat([df_final_test,test_sour_dist_svd_V], axis=1)\n",
    "df_final_test.head(5)"
   ]
  },
  {
   "cell_type": "code",
   "execution_count": 37,
   "metadata": {
    "ExecuteTime": {
     "end_time": "2019-08-21T09:07:39.702848Z",
     "start_time": "2019-08-21T09:07:25.543868Z"
    }
   },
   "outputs": [],
   "source": [
    "import tables\n",
    "hdf = HDFStore('data/fea_sample/storage_sample_stage6.h5')\n",
    "hdf.put('train_df',df_final_train, format='table', data_columns=True)\n",
    "hdf.put('test_df',df_final_test, format='table', data_columns=True)\n",
    "hdf.close()"
   ]
  },
  {
   "cell_type": "code",
   "execution_count": 38,
   "metadata": {
    "ExecuteTime": {
     "end_time": "2019-08-21T09:07:48.034619Z",
     "start_time": "2019-08-21T09:07:48.018363Z"
    }
   },
   "outputs": [
    {
     "data": {
      "text/plain": [
       "Index(['source_node', 'destination_node', 'indicator_link',\n",
       "       'jaccard_followers', 'jaccard_followees', 'cosine_followers',\n",
       "       'cosine_followees', 'num_followers_s', 'num_followers_d',\n",
       "       'num_followees_s', 'num_followees_d', 'inter_followers',\n",
       "       'inter_followees', 'adar_index', 'follows_back', 'same_comp',\n",
       "       'shortest_path', 'weight_in', 'weight_out', 'weight_f1', 'weight_f2',\n",
       "       'weight_f3', 'weight_f4', 'page_rank_s', 'page_rank_d', 'katz_s',\n",
       "       'katz_d', 'hubs_s', 'hubs_d', 'authorities_s', 'authorities_d',\n",
       "       'svd_u_s_1', 'svd_u_s_2', 'svd_u_s_3', 'svd_u_s_4', 'svd_u_s_5',\n",
       "       'svd_u_s_6', 'svd_u_d_1', 'svd_u_d_2', 'svd_u_d_3', 'svd_u_d_4',\n",
       "       'svd_u_d_5', 'svd_u_d_6', 'svd_v_s_1', 'svd_v_s_2', 'svd_v_s_3',\n",
       "       'svd_v_s_4', 'svd_v_s_5', 'svd_v_s_6', 'svd_v_d_1', 'svd_v_d_2',\n",
       "       'svd_v_d_3', 'svd_v_d_4', 'svd_v_d_5', 'svd_v_d_6',\n",
       "       'preferential_attachment_followers',\n",
       "       'preferential_attachment_followees', 'svd_mul_u_1', 'svd_mul_u_2',\n",
       "       'svd_mul_u_3', 'svd_mul_u_4', 'svd_mul_u_5', 'svd_mul_u_6',\n",
       "       'sour_dist_svd_dot_U', 'svd_mul_v_1', 'svd_mul_v_2', 'svd_mul_v_3',\n",
       "       'svd_mul_v_4', 'svd_mul_v_5', 'svd_mul_v_6', 'sour_dist_svd_dot_V'],\n",
       "      dtype='object')"
      ]
     },
     "execution_count": 38,
     "metadata": {},
     "output_type": "execute_result"
    }
   ],
   "source": [
    "df_final_train.columns"
   ]
  },
  {
   "cell_type": "code",
   "execution_count": 39,
   "metadata": {
    "ExecuteTime": {
     "end_time": "2019-08-21T09:07:55.643262Z",
     "start_time": "2019-08-21T09:07:55.351486Z"
    }
   },
   "outputs": [],
   "source": [
    "y_train = df_final_train.indicator_link\n",
    "y_test = df_final_test.indicator_link\n",
    "df_final_train.drop(['source_node', 'destination_node','indicator_link'],axis=1,inplace=True)\n",
    "df_final_test.drop(['source_node', 'destination_node','indicator_link'],axis=1,inplace=True)"
   ]
  },
  {
   "cell_type": "markdown",
   "metadata": {},
   "source": [
    "## 3. Modelling\n",
    "### 3.1 Random Forest "
   ]
  },
  {
   "cell_type": "code",
   "execution_count": 91,
   "metadata": {
    "ExecuteTime": {
     "end_time": "2019-08-13T09:42:10.609759Z",
     "start_time": "2019-08-13T09:20:29.966012Z"
    }
   },
   "outputs": [
    {
     "name": "stdout",
     "output_type": "stream",
     "text": [
      "mean test scores [0.96149445 0.96137995 0.96179109 0.96242706 0.96074301]\n",
      "mean train scores [0.96254083 0.9626828  0.96316492 0.96386263 0.96168923]\n"
     ]
    }
   ],
   "source": [
    "# Random Forest model after add all features\n",
    "param_dist = {\"n_estimators\":sp_randint(105,300),\n",
    "              \"max_depth\": sp_randint(10,20),\n",
    "              \"min_samples_split\": sp_randint(100,200),\n",
    "              \"min_samples_leaf\": sp_randint(25,70)}\n",
    "\n",
    "clf = RandomForestClassifier(random_state=25,n_jobs=-1)\n",
    "\n",
    "rf_random = RandomizedSearchCV(clf, param_distributions=param_dist,\n",
    "                                   n_iter=5,cv=10,scoring='f1',random_state=25)\n",
    "\n",
    "rf_random.fit(df_final_train,y_train)\n",
    "print('mean test scores',rf_random.cv_results_['mean_test_score'])\n",
    "print('mean train scores',rf_random.cv_results_['mean_train_score'])"
   ]
  },
  {
   "cell_type": "code",
   "execution_count": 92,
   "metadata": {
    "ExecuteTime": {
     "end_time": "2019-08-13T09:43:35.003963Z",
     "start_time": "2019-08-13T09:43:34.991967Z"
    }
   },
   "outputs": [
    {
     "name": "stdout",
     "output_type": "stream",
     "text": [
      "RandomForestClassifier(bootstrap=True, class_weight=None, criterion='gini',\n",
      "            max_depth=14, max_features='auto', max_leaf_nodes=None,\n",
      "            min_impurity_decrease=0.0, min_impurity_split=None,\n",
      "            min_samples_leaf=30, min_samples_split=101,\n",
      "            min_weight_fraction_leaf=0.0, n_estimators=272, n_jobs=-1,\n",
      "            oob_score=False, random_state=25, verbose=0, warm_start=False)\n"
     ]
    }
   ],
   "source": [
    "print(rf_random.best_estimator_)"
   ]
  },
  {
   "cell_type": "code",
   "execution_count": 102,
   "metadata": {
    "ExecuteTime": {
     "end_time": "2019-08-13T15:29:19.624222Z",
     "start_time": "2019-08-13T15:28:42.928382Z"
    }
   },
   "outputs": [
    {
     "name": "stdout",
     "output_type": "stream",
     "text": [
      "Train f1 score 0.9641477877451725\n",
      "Test f1 score 0.9269506537326022\n"
     ]
    }
   ],
   "source": [
    "clf = RandomForestClassifier(bootstrap=True, class_weight=None, criterion='gini',\n",
    "            max_depth=14, max_features='auto', max_leaf_nodes=None,\n",
    "            min_impurity_decrease=0.0, min_impurity_split=None,\n",
    "            min_samples_leaf=30, min_samples_split=101,\n",
    "            min_weight_fraction_leaf=0.0, n_estimators=272, n_jobs=-1,\n",
    "            oob_score=False, random_state=25, verbose=0, warm_start=False)\n",
    "clf.fit(df_final_train,y_train)\n",
    "y_train_pred = clf.predict(df_final_train)\n",
    "y_test_pred = clf.predict(df_final_test)\n",
    "print('Train f1 score',f1_score(y_train,y_train_pred))\n",
    "print('Test f1 score',f1_score(y_test,y_test_pred))"
   ]
  },
  {
   "cell_type": "code",
   "execution_count": 103,
   "metadata": {
    "ExecuteTime": {
     "end_time": "2019-08-13T15:29:24.625167Z",
     "start_time": "2019-08-13T15:29:23.144973Z"
    }
   },
   "outputs": [
    {
     "name": "stdout",
     "output_type": "stream",
     "text": [
      "Train confusion_matrix\n"
     ]
    },
    {
     "data": {
      "image/png": "[encoded data removed]",
      "text/plain": [
       "<Figure size 1440x288 with 6 Axes>"
      ]
     },
     "metadata": {},
     "output_type": "display_data"
    },
    {
     "name": "stdout",
     "output_type": "stream",
     "text": [
      "Test confusion_matrix\n"
     ]
    },
    {
     "data": {
      "image/png": "[encoded data removed]",
      "text/plain": [
       "<Figure size 1440x288 with 6 Axes>"
      ]
     },
     "metadata": {},
     "output_type": "display_data"
    }
   ],
   "source": [
    "print('Train confusion_matrix')\n",
    "plot_confusion_matrix(y_train,y_train_pred)\n",
    "print('Test confusion_matrix')\n",
    "plot_confusion_matrix(y_test,y_test_pred)"
   ]
  },
  {
   "cell_type": "code",
   "execution_count": 104,
   "metadata": {
    "ExecuteTime": {
     "end_time": "2019-08-13T15:35:58.398786Z",
     "start_time": "2019-08-13T15:35:58.108814Z"
    }
   },
   "outputs": [
    {
     "data": {
      "image/png": "[encoded data removed]",
      "text/plain": [
       "<Figure size 432x288 with 1 Axes>"
      ]
     },
     "metadata": {},
     "output_type": "display_data"
    }
   ],
   "source": [
    "from sklearn.metrics import roc_curve, auc\n",
    "fpr_tr,tpr_tr,ths = roc_curve(y_train,y_train_pred)\n",
    "fpr_te,tpr_te,ths = roc_curve(y_test,y_test_pred)\n",
    "auc_sc_tr = auc(fpr_tr, tpr_tr)\n",
    "auc_sc_te = auc(fpr_te, tpr_te)\n",
    "plt.plot(fpr_te, tpr_te, color='navy',label='ROC curve Test (area = %0.2f)' % auc_sc_te)\n",
    "plt.plot(fpr_tr, tpr_tr, color='r', label='ROC curve Train (area = %0.2f)' % auc_sc_tr)\n",
    "plt.xlabel('False Positive Rate')\n",
    "plt.ylabel('True Positive Rate')\n",
    "plt.title('Receiver operating characteristic with test data')\n",
    "plt.legend()\n",
    "plt.show()"
   ]
  },
  {
   "cell_type": "code",
   "execution_count": 105,
   "metadata": {
    "ExecuteTime": {
     "end_time": "2019-08-13T15:36:08.684498Z",
     "start_time": "2019-08-13T15:36:08.122803Z"
    }
   },
   "outputs": [
    {
     "data": {
      "image/png": "[encoded data removed]",
      "text/plain": [
       "<Figure size 720x864 with 1 Axes>"
      ]
     },
     "metadata": {},
     "output_type": "display_data"
    }
   ],
   "source": [
    "features = df_final_train.columns\n",
    "importances = clf.feature_importances_\n",
    "indices = (np.argsort(importances))[-30:]\n",
    "plt.figure(figsize=(10,12))\n",
    "plt.title('Feature Importances')\n",
    "plt.barh(range(len(indices)), importances[indices], color='r', align='center')\n",
    "plt.yticks(range(len(indices)), [features[i] for i in indices])\n",
    "plt.xlabel('Relative Importance')\n",
    "plt.show()"
   ]
  },
  {
   "cell_type": "markdown",
   "metadata": {},
   "source": [
    "### 3.2 XGBoost"
   ]
  },
  {
   "cell_type": "code",
   "execution_count": 100,
   "metadata": {
    "ExecuteTime": {
     "end_time": "2019-08-13T15:00:45.805980Z",
     "start_time": "2019-08-13T13:20:56.224441Z"
    }
   },
   "outputs": [
    {
     "name": "stdout",
     "output_type": "stream",
     "text": [
      "mean test scores [0.97414933 0.97633273 0.97537993 0.97511112 0.9790474 ]\n",
      "mean train scores [0.97543903 0.97857296 0.97711984 0.9759107  0.98539901]\n"
     ]
    }
   ],
   "source": [
    "import xgboost as xgb\n",
    "\n",
    "x_model = xgb.XGBClassifier(nthread=4)\n",
    "param_dist = {\"learning_rate\" : uniform(0.001,0.3),\n",
    "              \"n_estimators\" : sp_randint(10,600),\n",
    "              \"max_depth\"    : sp_randint(5,20),\n",
    "              \"min_child_weight\": sp_randint(1,10),\n",
    "              \"gamma\"        : uniform(0,0.03),\n",
    "              \"subsample\"    : uniform(0.6,0.4),\n",
    "              \"reg_alpha\"    : sp_randint(0,200),\n",
    "              \"reg_lambda\"   : sp_randint(0,200),\n",
    "              \"colsample_bytree\":uniform(0.6,0.3)}\n",
    "\n",
    "rf_random = RandomizedSearchCV(x_model, param_distributions=param_dist,\n",
    "                                   n_iter=5,cv=10,scoring='f1',random_state=25)\n",
    "rf_random.fit(df_final_train,y_train)\n",
    "print('mean test scores',rf_random.cv_results_['mean_test_score'])\n",
    "print('mean train scores',rf_random.cv_results_['mean_train_score'])"
   ]
  },
  {
   "cell_type": "code",
   "execution_count": 101,
   "metadata": {
    "ExecuteTime": {
     "end_time": "2019-08-13T15:26:30.950379Z",
     "start_time": "2019-08-13T15:26:30.943381Z"
    }
   },
   "outputs": [
    {
     "name": "stdout",
     "output_type": "stream",
     "text": [
      "XGBClassifier(base_score=0.5, booster='gbtree', colsample_bylevel=1,\n",
      "       colsample_bytree=0.8400362967290745, gamma=0.004483331345083044,\n",
      "       learning_rate=0.07020278445544602, max_delta_step=0, max_depth=11,\n",
      "       min_child_weight=1, missing=None, n_estimators=277, n_jobs=1,\n",
      "       nthread=4, objective='binary:logistic', random_state=0, reg_alpha=2,\n",
      "       reg_lambda=171, scale_pos_weight=1, seed=None, silent=True,\n",
      "       subsample=0.8103275853858888)\n"
     ]
    }
   ],
   "source": [
    "print(rf_random.best_estimator_)"
   ]
  },
  {
   "cell_type": "code",
   "execution_count": 107,
   "metadata": {
    "ExecuteTime": {
     "end_time": "2019-08-13T15:43:42.176057Z",
     "start_time": "2019-08-13T15:40:08.533542Z"
    }
   },
   "outputs": [
    {
     "name": "stdout",
     "output_type": "stream",
     "text": [
      "Train f1 score 0.98522730691699\n",
      "Test f1 score 0.9328859060402683\n"
     ]
    }
   ],
   "source": [
    "clf = xgb.XGBClassifier(base_score=0.5, booster='gbtree', colsample_bylevel=1,\n",
    "                   colsample_bytree=0.8400362967290745, gamma=0.004483331345083044,\n",
    "                   learning_rate=0.07020278445544602, max_delta_step=0, max_depth=11,\n",
    "                   min_child_weight=1, missing=None, n_estimators=277, n_jobs=1,\n",
    "                   nthread=4, objective='binary:logistic', random_state=0, reg_alpha=2,\n",
    "                   reg_lambda=171, scale_pos_weight=1, seed=None, silent=True,\n",
    "                   subsample=0.8103275853858888)\n",
    "\n",
    "clf.fit(df_final_train,y_train)\n",
    "y_train_pred = clf.predict(df_final_train)\n",
    "y_test_pred = clf.predict(df_final_test)\n",
    "print('Train f1 score',f1_score(y_train,y_train_pred))\n",
    "print('Test f1 score',f1_score(y_test,y_test_pred))"
   ]
  },
  {
   "cell_type": "code",
   "execution_count": 108,
   "metadata": {
    "ExecuteTime": {
     "end_time": "2019-08-13T15:45:41.838031Z",
     "start_time": "2019-08-13T15:45:40.398460Z"
    }
   },
   "outputs": [
    {
     "name": "stdout",
     "output_type": "stream",
     "text": [
      "Train confusion_matrix\n"
     ]
    },
    {
     "data": {
      "image/png": "[encoded data removed]",
      "text/plain": [
       "<Figure size 1440x288 with 6 Axes>"
      ]
     },
     "metadata": {},
     "output_type": "display_data"
    },
    {
     "name": "stdout",
     "output_type": "stream",
     "text": [
      "Test confusion_matrix\n"
     ]
    },
    {
     "data": {
      "image/png": "[encoded data removed]",
      "text/plain": [
       "<Figure size 1440x288 with 6 Axes>"
      ]
     },
     "metadata": {},
     "output_type": "display_data"
    }
   ],
   "source": [
    "print('Train confusion_matrix')\n",
    "plot_confusion_matrix(y_train,y_train_pred)\n",
    "print('Test confusion_matrix')\n",
    "plot_confusion_matrix(y_test,y_test_pred)"
   ]
  },
  {
   "cell_type": "code",
   "execution_count": 109,
   "metadata": {
    "ExecuteTime": {
     "end_time": "2019-08-13T15:46:28.541273Z",
     "start_time": "2019-08-13T15:46:28.231207Z"
    }
   },
   "outputs": [
    {
     "data": {
      "image/png": "[encoded data removed]",
      "text/plain": [
       "<Figure size 432x288 with 1 Axes>"
      ]
     },
     "metadata": {},
     "output_type": "display_data"
    }
   ],
   "source": [
    "from sklearn.metrics import roc_curve, auc\n",
    "fpr_tr,tpr_tr,ths = roc_curve(y_train,y_train_pred)\n",
    "fpr_te,tpr_te,ths = roc_curve(y_test,y_test_pred)\n",
    "auc_sc_tr = auc(fpr_tr, tpr_tr)\n",
    "auc_sc_te = auc(fpr_te, tpr_te)\n",
    "plt.plot(fpr_te, tpr_te, color='navy',label='ROC curve Test (area = %0.2f)' % auc_sc_te)\n",
    "plt.plot(fpr_tr, tpr_tr, color='r', label='ROC curve Train (area = %0.2f)' % auc_sc_tr)\n",
    "plt.xlabel('False Positive Rate')\n",
    "plt.ylabel('True Positive Rate')\n",
    "plt.title('Receiver operating characteristic with test data')\n",
    "plt.legend()\n",
    "plt.show()"
   ]
  },
  {
   "cell_type": "code",
   "execution_count": 114,
   "metadata": {
    "ExecuteTime": {
     "end_time": "2019-08-13T16:15:54.605979Z",
     "start_time": "2019-08-13T16:15:52.723186Z"
    }
   },
   "outputs": [
    {
     "data": {
      "image/png": "[encoded data removed]",
      "text/plain": [
       "<Figure size 720x864 with 1 Axes>"
      ]
     },
     "metadata": {},
     "output_type": "display_data"
    }
   ],
   "source": [
    "features = df_final_train.columns\n",
    "importances = clf.feature_importances_\n",
    "indices = (np.argsort(importances))[-81:]\n",
    "plt.figure(figsize=(10,12))\n",
    "plt.title('Feature Importances')\n",
    "plt.barh(range(len(indices)), importances[indices], color='r', align='center')\n",
    "plt.yticks(range(len(indices)), [features[i] for i in indices])\n",
    "plt.xlabel('Relative Importance')\n",
    "plt.show()"
   ]
  },
  {
   "cell_type": "code",
   "execution_count": 111,
   "metadata": {
    "ExecuteTime": {
     "end_time": "2019-08-13T16:09:35.113965Z",
     "start_time": "2019-08-13T16:09:35.011348Z"
    }
   },
   "outputs": [
    {
     "data": {
      "text/markdown": [
       "****Final Conclusion:****"
      ],
      "text/plain": [
       "<IPython.core.display.Markdown object>"
      ]
     },
     "metadata": {},
     "output_type": "display_data"
    },
    {
     "name": "stdout",
     "output_type": "stream",
     "text": [
      "+------------------------+------------------------------------------+----------------+---------------+-----------+----------+\n",
      "|         Model          |           Best Hyper Parameter           | Train f1_score | Test f1_score | Train AUC | Test_AUC |\n",
      "+------------------------+------------------------------------------+----------------+---------------+-----------+----------+\n",
      "| RandomForestClassifier |    max_depth:14, min_samples_leaf:30,    |     0.9641     |     0.9269    |    0.96   |   0.93   |\n",
      "|                        |  min_samples_split:101, n_estimators:272 |                |               |           |          |\n",
      "|     XGBClassifier      |  colsample_bytree:0.8400,gamma:0.0044,   |     0.9852     |     0.9328    |    0.99   |   0.94   |\n",
      "|                        |    learning_rate:0.0702,max_depth:11,    |                |               |           |          |\n",
      "|                        |   min_child_weight:1,n_estimators: 77,   |                |               |           |          |\n",
      "|                        |       reg_alpha:2,reg_lambda:171,        |                |               |           |          |\n",
      "|                        |             subsample:0.8103             |                |               |           |          |\n",
      "+------------------------+------------------------------------------+----------------+---------------+-----------+----------+\n"
     ]
    }
   ],
   "source": [
    "from prettytable import PrettyTable\n",
    "x = PrettyTable()\n",
    "x.field_names = [\"Model\",\"Best Hyper Parameter\",\"Train f1_score\",\"Test f1_score\",\"Train AUC\",\"Test_AUC\"]\n",
    "x.add_row([\"RandomForestClassifier\",\"max_depth:14, min_samples_leaf:30,\\n min_samples_split:101, n_estimators:272\",0.9641 ,0.9269,0.96,0.93])\n",
    "x.add_row([\"XGBClassifier\",\"colsample_bytree:0.8400,gamma:0.0044,\\nlearning_rate:0.0702,max_depth:11,\\nmin_child_weight:1,n_estimators: 77,\\nreg_alpha:2,reg_lambda:171,\\nsubsample:0.8103\",0.9852,0.9328,0.99,0.94])\n",
    "from IPython.display import Markdown, display\n",
    "def printmd(string):\n",
    "    display(Markdown(string))\n",
    "printmd('****Final Conclusion:****')\n",
    "print(x)"
   ]
  }
 ],
 "metadata": {
  "colab": {
   "collapsed_sections": [],
   "name": "FB_Models.ipynb",
   "provenance": [],
   "version": "0.3.2"
  },
  "kernelspec": {
   "display_name": "Python 3",
   "language": "python",
   "name": "python3"
  },
  "language_info": {
   "codemirror_mode": {
    "name": "ipython",
    "version": 3
   },
   "file_extension": ".py",
   "mimetype": "text/x-python",
   "name": "python",
   "nbconvert_exporter": "python",
   "pygments_lexer": "ipython3",
   "version": "3.6.5"
  },
  "toc": {
   "base_numbering": 1,
   "nav_menu": {},
   "number_sections": false,
   "sideBar": true,
   "skip_h1_title": false,
   "title_cell": "Table of Contents",
   "title_sidebar": "Contents",
   "toc_cell": false,
   "toc_position": {},
   "toc_section_display": true,
   "toc_window_display": false
  },
  "varInspector": {
   "cols": {
    "lenName": 16,
    "lenType": 16,
    "lenVar": 40
   },
   "kernels_config": {
    "python": {
     "delete_cmd_postfix": "",
     "delete_cmd_prefix": "del ",
     "library": "var_list.py",
     "varRefreshCmd": "print(var_dic_list())"
    },
    "r": {
     "delete_cmd_postfix": ") ",
     "delete_cmd_prefix": "rm(",
     "library": "var_list.r",
     "varRefreshCmd": "cat(var_dic_list()) "
    }
   },
   "oldHeight": 470,
   "position": {
    "height": "492px",
    "left": "775px",
    "right": "20px",
    "top": "10px",
    "width": "576px"
   },
   "types_to_exclude": [
    "module",
    "function",
    "builtin_function_or_method",
    "instance",
    "_Feature"
   ],
   "varInspector_section_display": "block",
   "window_display": false
  }
 },
 "nbformat": 4,
 "nbformat_minor": 1
}
